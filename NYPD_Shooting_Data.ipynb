{
  "nbformat": 4,
  "nbformat_minor": 0,
  "metadata": {
    "colab": {
      "provenance": [],
      "authorship_tag": "ABX9TyNK7EuQRiRhJKguIaXtyprU",
      "include_colab_link": true
    },
    "kernelspec": {
      "name": "python3",
      "display_name": "Python 3"
    },
    "language_info": {
      "name": "python"
    }
  },
  "cells": [
    {
      "cell_type": "markdown",
      "metadata": {
        "id": "view-in-github",
        "colab_type": "text"
      },
      "source": [
        "<a href=\"https://colab.research.google.com/github/Sevanip/Python-Data201/blob/main/NYPD_Shooting_Data.ipynb\" target=\"_parent\"><img src=\"https://colab.research.google.com/assets/colab-badge.svg\" alt=\"Open In Colab\"/></a>"
      ]
    },
    {
      "cell_type": "markdown",
      "source": [
        "#Who are most at risk of becoming victims of a shooting incident in NYC?"
      ],
      "metadata": {
        "id": "t_d6pKzEneTe"
      }
    },
    {
      "cell_type": "markdown",
      "source": [
        "#Importing Libraries"
      ],
      "metadata": {
        "id": "QMrj94EJGR8K"
      }
    },
    {
      "cell_type": "code",
      "source": [
        "#here i am importing the libraries i may want to use for this analysis.\n",
        "import numpy as np # to perform mathematical operations\n",
        "import pandas as pd #To analysiing, cleaning, manipulating and exploring the data\n",
        "import matplotlib.pyplot as plt #for creating visualizations\n",
        "import seaborn as sns #To explore and understand the data and for visualizations.\n",
        "%matplotlib inline"
      ],
      "metadata": {
        "id": "CQLTVlnQsiop"
      },
      "execution_count": 1,
      "outputs": []
    },
    {
      "cell_type": "markdown",
      "source": [
        "#Exploring the Data"
      ],
      "metadata": {
        "id": "rFWqCQrtXXC9"
      }
    },
    {
      "cell_type": "code",
      "execution_count": 2,
      "metadata": {
        "id": "EvgiZ73EsS1X"
      },
      "outputs": [],
      "source": [
        "df = pd.read_csv('https://raw.githubusercontent.com/Sevanip/Python-Data201/main/NYPD_Shooting_Incident_Data__Historic_.csv')"
      ]
    },
    {
      "cell_type": "code",
      "source": [
        "df.shape #this tells me how many row and columns are in this dataset. we have 25596 rows and 19 columns."
      ],
      "metadata": {
        "colab": {
          "base_uri": "https://localhost:8080/"
        },
        "id": "v6HEdrIRspfg",
        "outputId": "ab3456be-1fdb-4662-adfd-010516359180"
      },
      "execution_count": 3,
      "outputs": [
        {
          "output_type": "execute_result",
          "data": {
            "text/plain": [
              "(25596, 19)"
            ]
          },
          "metadata": {},
          "execution_count": 3
        }
      ]
    },
    {
      "cell_type": "code",
      "source": [
        "df.head(10) # Note: statistical_murder_flag - true means victim died while false means victim survived."
      ],
      "metadata": {
        "colab": {
          "base_uri": "https://localhost:8080/",
          "height": 774
        },
        "id": "1UUgZkG_sq69",
        "outputId": "2eaba4f3-9b3f-44fa-cd0a-ed96db7175c2"
      },
      "execution_count": 4,
      "outputs": [
        {
          "output_type": "execute_result",
          "data": {
            "text/plain": [
              "   INCIDENT_KEY  OCCUR_DATE OCCUR_TIME       BORO  PRECINCT  \\\n",
              "0     236168668  11/11/2021   15:04:00   BROOKLYN        79   \n",
              "1     231008085  07/16/2021   22:05:00   BROOKLYN        72   \n",
              "2     230717903  07/11/2021   01:09:00   BROOKLYN        79   \n",
              "3     237712309  12/11/2021   13:42:00   BROOKLYN        81   \n",
              "4     224465521  02/16/2021   20:00:00     QUEENS       113   \n",
              "5     228252164  05/15/2021   04:13:00     QUEENS       113   \n",
              "6     226950018  04/14/2021   21:08:00      BRONX        42   \n",
              "7     237710987  12/10/2021   19:30:00      BRONX        52   \n",
              "8     224701998  02/22/2021   00:18:00  MANHATTAN        34   \n",
              "9     225295736  03/07/2021   06:15:00   BROOKLYN        75   \n",
              "\n",
              "   JURISDICTION_CODE    LOCATION_DESC  STATISTICAL_MURDER_FLAG PERP_AGE_GROUP  \\\n",
              "0                0.0              NaN                    False            NaN   \n",
              "1                0.0              NaN                    False          45-64   \n",
              "2                0.0              NaN                    False            <18   \n",
              "3                0.0              NaN                    False            NaN   \n",
              "4                0.0              NaN                    False            NaN   \n",
              "5                0.0              NaN                     True            NaN   \n",
              "6                0.0  COMMERCIAL BLDG                     True            NaN   \n",
              "7                0.0              NaN                    False            NaN   \n",
              "8                0.0              NaN                    False            NaN   \n",
              "9                0.0              NaN                     True          25-44   \n",
              "\n",
              "  PERP_SEX                 PERP_RACE VIC_AGE_GROUP VIC_SEX  \\\n",
              "0      NaN                       NaN         18-24       M   \n",
              "1        M  ASIAN / PACIFIC ISLANDER         25-44       M   \n",
              "2        M                     BLACK         25-44       M   \n",
              "3      NaN                       NaN         25-44       M   \n",
              "4      NaN                       NaN         25-44       M   \n",
              "5      NaN                       NaN         25-44       M   \n",
              "6      NaN                       NaN         18-24       M   \n",
              "7      NaN                       NaN         25-44       M   \n",
              "8      NaN                       NaN         25-44       M   \n",
              "9        M            BLACK HISPANIC         25-44       M   \n",
              "\n",
              "                   VIC_RACE  X_COORD_CD  Y_COORD_CD   Latitude  Longitude  \\\n",
              "0                     BLACK    996313.0    187499.0  40.681318 -73.956509   \n",
              "1  ASIAN / PACIFIC ISLANDER    981845.0    171118.0  40.636364 -74.008667   \n",
              "2                     BLACK    996546.0    187436.0  40.681145 -73.955669   \n",
              "3                     BLACK   1001139.0    192775.0  40.695792 -73.939096   \n",
              "4                     BLACK   1050710.0    184826.0  40.673740 -73.760411   \n",
              "5                     BLACK   1051329.0    196646.0  40.706179 -73.758061   \n",
              "6                     BLACK   1009489.0    243050.0  40.833764 -73.908795   \n",
              "7                     BLACK   1017440.0    256046.0  40.869407 -73.879998   \n",
              "8            BLACK HISPANIC   1005426.0    254690.0  40.865723 -73.923441   \n",
              "9            WHITE HISPANIC   1020492.0    187865.0  40.682257 -73.869331   \n",
              "\n",
              "                                        Lon_Lat  \n",
              "0  POINT (-73.95650899099996 40.68131820000008)  \n",
              "1  POINT (-74.00866668999998 40.63636384100005)  \n",
              "2  POINT (-73.95566903799994 40.68114495900005)  \n",
              "3       POINT (-73.939095905 40.69579171600003)  \n",
              "4  POINT (-73.76041066999993 40.67374017600008)  \n",
              "5  POINT (-73.75806147399999 40.70617856900003)  \n",
              "6  POINT (-73.90879517699994 40.83376365400005)  \n",
              "7  POINT (-73.87999831299999 40.86940749200004)  \n",
              "8  POINT (-73.92344088699997 40.86572268100008)  \n",
              "9  POINT (-73.86933111399996 40.68225681500007)  "
            ],
            "text/html": [
              "\n",
              "  <div id=\"df-0be68ccf-33e2-4ce9-9671-89a83bdc131f\">\n",
              "    <div class=\"colab-df-container\">\n",
              "      <div>\n",
              "<style scoped>\n",
              "    .dataframe tbody tr th:only-of-type {\n",
              "        vertical-align: middle;\n",
              "    }\n",
              "\n",
              "    .dataframe tbody tr th {\n",
              "        vertical-align: top;\n",
              "    }\n",
              "\n",
              "    .dataframe thead th {\n",
              "        text-align: right;\n",
              "    }\n",
              "</style>\n",
              "<table border=\"1\" class=\"dataframe\">\n",
              "  <thead>\n",
              "    <tr style=\"text-align: right;\">\n",
              "      <th></th>\n",
              "      <th>INCIDENT_KEY</th>\n",
              "      <th>OCCUR_DATE</th>\n",
              "      <th>OCCUR_TIME</th>\n",
              "      <th>BORO</th>\n",
              "      <th>PRECINCT</th>\n",
              "      <th>JURISDICTION_CODE</th>\n",
              "      <th>LOCATION_DESC</th>\n",
              "      <th>STATISTICAL_MURDER_FLAG</th>\n",
              "      <th>PERP_AGE_GROUP</th>\n",
              "      <th>PERP_SEX</th>\n",
              "      <th>PERP_RACE</th>\n",
              "      <th>VIC_AGE_GROUP</th>\n",
              "      <th>VIC_SEX</th>\n",
              "      <th>VIC_RACE</th>\n",
              "      <th>X_COORD_CD</th>\n",
              "      <th>Y_COORD_CD</th>\n",
              "      <th>Latitude</th>\n",
              "      <th>Longitude</th>\n",
              "      <th>Lon_Lat</th>\n",
              "    </tr>\n",
              "  </thead>\n",
              "  <tbody>\n",
              "    <tr>\n",
              "      <th>0</th>\n",
              "      <td>236168668</td>\n",
              "      <td>11/11/2021</td>\n",
              "      <td>15:04:00</td>\n",
              "      <td>BROOKLYN</td>\n",
              "      <td>79</td>\n",
              "      <td>0.0</td>\n",
              "      <td>NaN</td>\n",
              "      <td>False</td>\n",
              "      <td>NaN</td>\n",
              "      <td>NaN</td>\n",
              "      <td>NaN</td>\n",
              "      <td>18-24</td>\n",
              "      <td>M</td>\n",
              "      <td>BLACK</td>\n",
              "      <td>996313.0</td>\n",
              "      <td>187499.0</td>\n",
              "      <td>40.681318</td>\n",
              "      <td>-73.956509</td>\n",
              "      <td>POINT (-73.95650899099996 40.68131820000008)</td>\n",
              "    </tr>\n",
              "    <tr>\n",
              "      <th>1</th>\n",
              "      <td>231008085</td>\n",
              "      <td>07/16/2021</td>\n",
              "      <td>22:05:00</td>\n",
              "      <td>BROOKLYN</td>\n",
              "      <td>72</td>\n",
              "      <td>0.0</td>\n",
              "      <td>NaN</td>\n",
              "      <td>False</td>\n",
              "      <td>45-64</td>\n",
              "      <td>M</td>\n",
              "      <td>ASIAN / PACIFIC ISLANDER</td>\n",
              "      <td>25-44</td>\n",
              "      <td>M</td>\n",
              "      <td>ASIAN / PACIFIC ISLANDER</td>\n",
              "      <td>981845.0</td>\n",
              "      <td>171118.0</td>\n",
              "      <td>40.636364</td>\n",
              "      <td>-74.008667</td>\n",
              "      <td>POINT (-74.00866668999998 40.63636384100005)</td>\n",
              "    </tr>\n",
              "    <tr>\n",
              "      <th>2</th>\n",
              "      <td>230717903</td>\n",
              "      <td>07/11/2021</td>\n",
              "      <td>01:09:00</td>\n",
              "      <td>BROOKLYN</td>\n",
              "      <td>79</td>\n",
              "      <td>0.0</td>\n",
              "      <td>NaN</td>\n",
              "      <td>False</td>\n",
              "      <td>&lt;18</td>\n",
              "      <td>M</td>\n",
              "      <td>BLACK</td>\n",
              "      <td>25-44</td>\n",
              "      <td>M</td>\n",
              "      <td>BLACK</td>\n",
              "      <td>996546.0</td>\n",
              "      <td>187436.0</td>\n",
              "      <td>40.681145</td>\n",
              "      <td>-73.955669</td>\n",
              "      <td>POINT (-73.95566903799994 40.68114495900005)</td>\n",
              "    </tr>\n",
              "    <tr>\n",
              "      <th>3</th>\n",
              "      <td>237712309</td>\n",
              "      <td>12/11/2021</td>\n",
              "      <td>13:42:00</td>\n",
              "      <td>BROOKLYN</td>\n",
              "      <td>81</td>\n",
              "      <td>0.0</td>\n",
              "      <td>NaN</td>\n",
              "      <td>False</td>\n",
              "      <td>NaN</td>\n",
              "      <td>NaN</td>\n",
              "      <td>NaN</td>\n",
              "      <td>25-44</td>\n",
              "      <td>M</td>\n",
              "      <td>BLACK</td>\n",
              "      <td>1001139.0</td>\n",
              "      <td>192775.0</td>\n",
              "      <td>40.695792</td>\n",
              "      <td>-73.939096</td>\n",
              "      <td>POINT (-73.939095905 40.69579171600003)</td>\n",
              "    </tr>\n",
              "    <tr>\n",
              "      <th>4</th>\n",
              "      <td>224465521</td>\n",
              "      <td>02/16/2021</td>\n",
              "      <td>20:00:00</td>\n",
              "      <td>QUEENS</td>\n",
              "      <td>113</td>\n",
              "      <td>0.0</td>\n",
              "      <td>NaN</td>\n",
              "      <td>False</td>\n",
              "      <td>NaN</td>\n",
              "      <td>NaN</td>\n",
              "      <td>NaN</td>\n",
              "      <td>25-44</td>\n",
              "      <td>M</td>\n",
              "      <td>BLACK</td>\n",
              "      <td>1050710.0</td>\n",
              "      <td>184826.0</td>\n",
              "      <td>40.673740</td>\n",
              "      <td>-73.760411</td>\n",
              "      <td>POINT (-73.76041066999993 40.67374017600008)</td>\n",
              "    </tr>\n",
              "    <tr>\n",
              "      <th>5</th>\n",
              "      <td>228252164</td>\n",
              "      <td>05/15/2021</td>\n",
              "      <td>04:13:00</td>\n",
              "      <td>QUEENS</td>\n",
              "      <td>113</td>\n",
              "      <td>0.0</td>\n",
              "      <td>NaN</td>\n",
              "      <td>True</td>\n",
              "      <td>NaN</td>\n",
              "      <td>NaN</td>\n",
              "      <td>NaN</td>\n",
              "      <td>25-44</td>\n",
              "      <td>M</td>\n",
              "      <td>BLACK</td>\n",
              "      <td>1051329.0</td>\n",
              "      <td>196646.0</td>\n",
              "      <td>40.706179</td>\n",
              "      <td>-73.758061</td>\n",
              "      <td>POINT (-73.75806147399999 40.70617856900003)</td>\n",
              "    </tr>\n",
              "    <tr>\n",
              "      <th>6</th>\n",
              "      <td>226950018</td>\n",
              "      <td>04/14/2021</td>\n",
              "      <td>21:08:00</td>\n",
              "      <td>BRONX</td>\n",
              "      <td>42</td>\n",
              "      <td>0.0</td>\n",
              "      <td>COMMERCIAL BLDG</td>\n",
              "      <td>True</td>\n",
              "      <td>NaN</td>\n",
              "      <td>NaN</td>\n",
              "      <td>NaN</td>\n",
              "      <td>18-24</td>\n",
              "      <td>M</td>\n",
              "      <td>BLACK</td>\n",
              "      <td>1009489.0</td>\n",
              "      <td>243050.0</td>\n",
              "      <td>40.833764</td>\n",
              "      <td>-73.908795</td>\n",
              "      <td>POINT (-73.90879517699994 40.83376365400005)</td>\n",
              "    </tr>\n",
              "    <tr>\n",
              "      <th>7</th>\n",
              "      <td>237710987</td>\n",
              "      <td>12/10/2021</td>\n",
              "      <td>19:30:00</td>\n",
              "      <td>BRONX</td>\n",
              "      <td>52</td>\n",
              "      <td>0.0</td>\n",
              "      <td>NaN</td>\n",
              "      <td>False</td>\n",
              "      <td>NaN</td>\n",
              "      <td>NaN</td>\n",
              "      <td>NaN</td>\n",
              "      <td>25-44</td>\n",
              "      <td>M</td>\n",
              "      <td>BLACK</td>\n",
              "      <td>1017440.0</td>\n",
              "      <td>256046.0</td>\n",
              "      <td>40.869407</td>\n",
              "      <td>-73.879998</td>\n",
              "      <td>POINT (-73.87999831299999 40.86940749200004)</td>\n",
              "    </tr>\n",
              "    <tr>\n",
              "      <th>8</th>\n",
              "      <td>224701998</td>\n",
              "      <td>02/22/2021</td>\n",
              "      <td>00:18:00</td>\n",
              "      <td>MANHATTAN</td>\n",
              "      <td>34</td>\n",
              "      <td>0.0</td>\n",
              "      <td>NaN</td>\n",
              "      <td>False</td>\n",
              "      <td>NaN</td>\n",
              "      <td>NaN</td>\n",
              "      <td>NaN</td>\n",
              "      <td>25-44</td>\n",
              "      <td>M</td>\n",
              "      <td>BLACK HISPANIC</td>\n",
              "      <td>1005426.0</td>\n",
              "      <td>254690.0</td>\n",
              "      <td>40.865723</td>\n",
              "      <td>-73.923441</td>\n",
              "      <td>POINT (-73.92344088699997 40.86572268100008)</td>\n",
              "    </tr>\n",
              "    <tr>\n",
              "      <th>9</th>\n",
              "      <td>225295736</td>\n",
              "      <td>03/07/2021</td>\n",
              "      <td>06:15:00</td>\n",
              "      <td>BROOKLYN</td>\n",
              "      <td>75</td>\n",
              "      <td>0.0</td>\n",
              "      <td>NaN</td>\n",
              "      <td>True</td>\n",
              "      <td>25-44</td>\n",
              "      <td>M</td>\n",
              "      <td>BLACK HISPANIC</td>\n",
              "      <td>25-44</td>\n",
              "      <td>M</td>\n",
              "      <td>WHITE HISPANIC</td>\n",
              "      <td>1020492.0</td>\n",
              "      <td>187865.0</td>\n",
              "      <td>40.682257</td>\n",
              "      <td>-73.869331</td>\n",
              "      <td>POINT (-73.86933111399996 40.68225681500007)</td>\n",
              "    </tr>\n",
              "  </tbody>\n",
              "</table>\n",
              "</div>\n",
              "      <button class=\"colab-df-convert\" onclick=\"convertToInteractive('df-0be68ccf-33e2-4ce9-9671-89a83bdc131f')\"\n",
              "              title=\"Convert this dataframe to an interactive table.\"\n",
              "              style=\"display:none;\">\n",
              "        \n",
              "  <svg xmlns=\"http://www.w3.org/2000/svg\" height=\"24px\"viewBox=\"0 0 24 24\"\n",
              "       width=\"24px\">\n",
              "    <path d=\"M0 0h24v24H0V0z\" fill=\"none\"/>\n",
              "    <path d=\"M18.56 5.44l.94 2.06.94-2.06 2.06-.94-2.06-.94-.94-2.06-.94 2.06-2.06.94zm-11 1L8.5 8.5l.94-2.06 2.06-.94-2.06-.94L8.5 2.5l-.94 2.06-2.06.94zm10 10l.94 2.06.94-2.06 2.06-.94-2.06-.94-.94-2.06-.94 2.06-2.06.94z\"/><path d=\"M17.41 7.96l-1.37-1.37c-.4-.4-.92-.59-1.43-.59-.52 0-1.04.2-1.43.59L10.3 9.45l-7.72 7.72c-.78.78-.78 2.05 0 2.83L4 21.41c.39.39.9.59 1.41.59.51 0 1.02-.2 1.41-.59l7.78-7.78 2.81-2.81c.8-.78.8-2.07 0-2.86zM5.41 20L4 18.59l7.72-7.72 1.47 1.35L5.41 20z\"/>\n",
              "  </svg>\n",
              "      </button>\n",
              "      \n",
              "  <style>\n",
              "    .colab-df-container {\n",
              "      display:flex;\n",
              "      flex-wrap:wrap;\n",
              "      gap: 12px;\n",
              "    }\n",
              "\n",
              "    .colab-df-convert {\n",
              "      background-color: #E8F0FE;\n",
              "      border: none;\n",
              "      border-radius: 50%;\n",
              "      cursor: pointer;\n",
              "      display: none;\n",
              "      fill: #1967D2;\n",
              "      height: 32px;\n",
              "      padding: 0 0 0 0;\n",
              "      width: 32px;\n",
              "    }\n",
              "\n",
              "    .colab-df-convert:hover {\n",
              "      background-color: #E2EBFA;\n",
              "      box-shadow: 0px 1px 2px rgba(60, 64, 67, 0.3), 0px 1px 3px 1px rgba(60, 64, 67, 0.15);\n",
              "      fill: #174EA6;\n",
              "    }\n",
              "\n",
              "    [theme=dark] .colab-df-convert {\n",
              "      background-color: #3B4455;\n",
              "      fill: #D2E3FC;\n",
              "    }\n",
              "\n",
              "    [theme=dark] .colab-df-convert:hover {\n",
              "      background-color: #434B5C;\n",
              "      box-shadow: 0px 1px 3px 1px rgba(0, 0, 0, 0.15);\n",
              "      filter: drop-shadow(0px 1px 2px rgba(0, 0, 0, 0.3));\n",
              "      fill: #FFFFFF;\n",
              "    }\n",
              "  </style>\n",
              "\n",
              "      <script>\n",
              "        const buttonEl =\n",
              "          document.querySelector('#df-0be68ccf-33e2-4ce9-9671-89a83bdc131f button.colab-df-convert');\n",
              "        buttonEl.style.display =\n",
              "          google.colab.kernel.accessAllowed ? 'block' : 'none';\n",
              "\n",
              "        async function convertToInteractive(key) {\n",
              "          const element = document.querySelector('#df-0be68ccf-33e2-4ce9-9671-89a83bdc131f');\n",
              "          const dataTable =\n",
              "            await google.colab.kernel.invokeFunction('convertToInteractive',\n",
              "                                                     [key], {});\n",
              "          if (!dataTable) return;\n",
              "\n",
              "          const docLinkHtml = 'Like what you see? Visit the ' +\n",
              "            '<a target=\"_blank\" href=https://colab.research.google.com/notebooks/data_table.ipynb>data table notebook</a>'\n",
              "            + ' to learn more about interactive tables.';\n",
              "          element.innerHTML = '';\n",
              "          dataTable['output_type'] = 'display_data';\n",
              "          await google.colab.output.renderOutput(dataTable, element);\n",
              "          const docLink = document.createElement('div');\n",
              "          docLink.innerHTML = docLinkHtml;\n",
              "          element.appendChild(docLink);\n",
              "        }\n",
              "      </script>\n",
              "    </div>\n",
              "  </div>\n",
              "  "
            ]
          },
          "metadata": {},
          "execution_count": 4
        }
      ]
    },
    {
      "cell_type": "markdown",
      "source": [
        "#Data Cleaning"
      ],
      "metadata": {
        "id": "chUtBdG1XS1W"
      }
    },
    {
      "cell_type": "code",
      "source": [
        "df.isnull().sum() #checking for missing values, however i won't be removing any. Since my analysis mostly revolves around victims i and not overly concerned about the perp missing data."
      ],
      "metadata": {
        "colab": {
          "base_uri": "https://localhost:8080/"
        },
        "id": "vJWGdOQmstJN",
        "outputId": "4d1111b8-6450-487e-b3b6-bc8fda9264a9"
      },
      "execution_count": 5,
      "outputs": [
        {
          "output_type": "execute_result",
          "data": {
            "text/plain": [
              "INCIDENT_KEY                   0\n",
              "OCCUR_DATE                     0\n",
              "OCCUR_TIME                     0\n",
              "BORO                           0\n",
              "PRECINCT                       0\n",
              "JURISDICTION_CODE              2\n",
              "LOCATION_DESC              14977\n",
              "STATISTICAL_MURDER_FLAG        0\n",
              "PERP_AGE_GROUP              9344\n",
              "PERP_SEX                    9310\n",
              "PERP_RACE                   9310\n",
              "VIC_AGE_GROUP                  0\n",
              "VIC_SEX                        0\n",
              "VIC_RACE                       0\n",
              "X_COORD_CD                     0\n",
              "Y_COORD_CD                     0\n",
              "Latitude                       0\n",
              "Longitude                      0\n",
              "Lon_Lat                        0\n",
              "dtype: int64"
            ]
          },
          "metadata": {},
          "execution_count": 5
        }
      ]
    },
    {
      "cell_type": "code",
      "source": [
        "df['INCIDENT_KEY'].is_unique #I did some reading and learned that if there were multiple victims the duplicate incident keys were produced. "
      ],
      "metadata": {
        "colab": {
          "base_uri": "https://localhost:8080/"
        },
        "id": "JQiA7wM3Tc2E",
        "outputId": "550898f2-d95a-4656-b079-56e581c31b9d"
      },
      "execution_count": 6,
      "outputs": [
        {
          "output_type": "execute_result",
          "data": {
            "text/plain": [
              "False"
            ]
          },
          "metadata": {},
          "execution_count": 6
        }
      ]
    },
    {
      "cell_type": "code",
      "source": [
        "#how many incidents included multiple victims. I think it is important to know how many incidents were duplicate because it tells us that there weren't acctually 25596 incidents it was less, there were maybe\n",
        "#22861, if the duplicates were only doubles. that number would change if there were maybe 3, 4, 5 victims in one incident. 25596 IS THE TOTAL # VICTIMS BUT NOT THE TOTAL NUMBER OF INCIDENTS. \n",
        "newcols = []\n",
        "duplist = []\n",
        "\n",
        "for i in df.INCIDENT_KEY:\n",
        "  if i not in newcols:\n",
        "    newcols.append(i)\n",
        "  else:\n",
        "    duplist.append(i)\n",
        "\n",
        "print('list of duplicates', len(duplist))\n"
      ],
      "metadata": {
        "colab": {
          "base_uri": "https://localhost:8080/"
        },
        "id": "GnzcaY3rP9M1",
        "outputId": "c8a1082a-0169-4503-8337-9c412959965d"
      },
      "execution_count": 7,
      "outputs": [
        {
          "output_type": "stream",
          "name": "stdout",
          "text": [
            "list of duplicates 5470\n"
          ]
        }
      ]
    },
    {
      "cell_type": "code",
      "source": [
        "print(df.columns) #displaying column names, since i will be dropping some of them and it is easier to just copy and paste."
      ],
      "metadata": {
        "colab": {
          "base_uri": "https://localhost:8080/"
        },
        "id": "SYgIkMnQdH0r",
        "outputId": "89d1464c-7181-49db-9844-738a25fbd1fa"
      },
      "execution_count": 8,
      "outputs": [
        {
          "output_type": "stream",
          "name": "stdout",
          "text": [
            "Index(['INCIDENT_KEY', 'OCCUR_DATE', 'OCCUR_TIME', 'BORO', 'PRECINCT',\n",
            "       'JURISDICTION_CODE', 'LOCATION_DESC', 'STATISTICAL_MURDER_FLAG',\n",
            "       'PERP_AGE_GROUP', 'PERP_SEX', 'PERP_RACE', 'VIC_AGE_GROUP', 'VIC_SEX',\n",
            "       'VIC_RACE', 'X_COORD_CD', 'Y_COORD_CD', 'Latitude', 'Longitude',\n",
            "       'Lon_Lat'],\n",
            "      dtype='object')\n"
          ]
        }
      ]
    },
    {
      "cell_type": "markdown",
      "source": [
        "##Dropping Columns, df.drop"
      ],
      "metadata": {
        "id": "8LZnvis3Xcjs"
      }
    },
    {
      "cell_type": "code",
      "source": [
        "drop_cols = ['X_COORD_CD', 'Y_COORD_CD', 'Lon_Lat', 'Latitude', 'Longitude', 'PRECINCT'] #dropping the columns i don't need or won't be using in this analysis.\n",
        "df.drop(drop_cols, inplace = True, axis=1)"
      ],
      "metadata": {
        "id": "Amxyjae6dKJQ"
      },
      "execution_count": 9,
      "outputs": []
    },
    {
      "cell_type": "code",
      "source": [
        "#checking value counts for a few columns.\n",
        "df['PERP_RACE'].value_counts() #even though i won't be using perp data much in my analysis i did want to see if the data in this case is similar to other crime data i have looked at. And Blacks are at the top which is similar.\n",
        "#This tells me that the area with most shooting incidents will probably be predominantly black neighborhoods. "
      ],
      "metadata": {
        "colab": {
          "base_uri": "https://localhost:8080/"
        },
        "id": "nRryeUa9eKSd",
        "outputId": "836a6cb4-4b4c-4c79-8bf4-9a8e54741b33"
      },
      "execution_count": 10,
      "outputs": [
        {
          "output_type": "execute_result",
          "data": {
            "text/plain": [
              "BLACK                             10668\n",
              "WHITE HISPANIC                     2164\n",
              "UNKNOWN                            1836\n",
              "BLACK HISPANIC                     1203\n",
              "WHITE                               272\n",
              "ASIAN / PACIFIC ISLANDER            141\n",
              "AMERICAN INDIAN/ALASKAN NATIVE        2\n",
              "Name: PERP_RACE, dtype: int64"
            ]
          },
          "metadata": {},
          "execution_count": 10
        }
      ]
    },
    {
      "cell_type": "code",
      "source": [
        "df['STATISTICAL_MURDER_FLAG'].value_counts() #checking the actual numbers of how many victims survived and how many didn't. it good to know that most shooting incidents don't result in someone dying. "
      ],
      "metadata": {
        "colab": {
          "base_uri": "https://localhost:8080/"
        },
        "id": "S1GKafsVeioE",
        "outputId": "049ec911-4355-4df4-b0bb-ef905d0ca4bc"
      },
      "execution_count": 11,
      "outputs": [
        {
          "output_type": "execute_result",
          "data": {
            "text/plain": [
              "False    20668\n",
              "True      4928\n",
              "Name: STATISTICAL_MURDER_FLAG, dtype: int64"
            ]
          },
          "metadata": {},
          "execution_count": 11
        }
      ]
    },
    {
      "cell_type": "markdown",
      "source": [
        "##Manipulating date & time"
      ],
      "metadata": {
        "id": "ssR6gSKfZIaW"
      }
    },
    {
      "cell_type": "code",
      "source": [
        "import datetime #to manipulate date and time, i want to pull out the month and year separately so we can see 1. what time of year shooting incidents increase and decrease, 2. if there is any pattern over the years."
      ],
      "metadata": {
        "id": "Kr7YOaybfLO0"
      },
      "execution_count": 12,
      "outputs": []
    },
    {
      "cell_type": "code",
      "source": [
        "df['OCCUR_DATE'] = pd.to_datetime(df['OCCUR_DATE'])#converting dates from mm/dd/yyyy format to yyyy-mm-dd"
      ],
      "metadata": {
        "id": "WBcGX25SfOgQ"
      },
      "execution_count": 13,
      "outputs": []
    },
    {
      "cell_type": "code",
      "source": [
        "df['MONTH'] = pd.DatetimeIndex(df['OCCUR_DATE']).month #adding a new column called Month\n",
        "df['YEAR'] = pd.DatetimeIndex(df['OCCUR_DATE']).year #adding a new column called YEAR"
      ],
      "metadata": {
        "id": "kVHJHGfQfpKu"
      },
      "execution_count": 14,
      "outputs": []
    },
    {
      "cell_type": "code",
      "source": [
        "df.head() #checking to see that the new columns were successfully added."
      ],
      "metadata": {
        "colab": {
          "base_uri": "https://localhost:8080/",
          "height": 206
        },
        "id": "10xjVAeif8Hh",
        "outputId": "e13a08c1-96dc-416a-e07c-f55c07e19620"
      },
      "execution_count": 15,
      "outputs": [
        {
          "output_type": "execute_result",
          "data": {
            "text/plain": [
              "   INCIDENT_KEY OCCUR_DATE OCCUR_TIME      BORO  JURISDICTION_CODE  \\\n",
              "0     236168668 2021-11-11   15:04:00  BROOKLYN                0.0   \n",
              "1     231008085 2021-07-16   22:05:00  BROOKLYN                0.0   \n",
              "2     230717903 2021-07-11   01:09:00  BROOKLYN                0.0   \n",
              "3     237712309 2021-12-11   13:42:00  BROOKLYN                0.0   \n",
              "4     224465521 2021-02-16   20:00:00    QUEENS                0.0   \n",
              "\n",
              "  LOCATION_DESC  STATISTICAL_MURDER_FLAG PERP_AGE_GROUP PERP_SEX  \\\n",
              "0           NaN                    False            NaN      NaN   \n",
              "1           NaN                    False          45-64        M   \n",
              "2           NaN                    False            <18        M   \n",
              "3           NaN                    False            NaN      NaN   \n",
              "4           NaN                    False            NaN      NaN   \n",
              "\n",
              "                  PERP_RACE VIC_AGE_GROUP VIC_SEX                  VIC_RACE  \\\n",
              "0                       NaN         18-24       M                     BLACK   \n",
              "1  ASIAN / PACIFIC ISLANDER         25-44       M  ASIAN / PACIFIC ISLANDER   \n",
              "2                     BLACK         25-44       M                     BLACK   \n",
              "3                       NaN         25-44       M                     BLACK   \n",
              "4                       NaN         25-44       M                     BLACK   \n",
              "\n",
              "   MONTH  YEAR  \n",
              "0     11  2021  \n",
              "1      7  2021  \n",
              "2      7  2021  \n",
              "3     12  2021  \n",
              "4      2  2021  "
            ],
            "text/html": [
              "\n",
              "  <div id=\"df-7d119bc9-b2f3-45c1-b2cd-3eb77bd250c1\">\n",
              "    <div class=\"colab-df-container\">\n",
              "      <div>\n",
              "<style scoped>\n",
              "    .dataframe tbody tr th:only-of-type {\n",
              "        vertical-align: middle;\n",
              "    }\n",
              "\n",
              "    .dataframe tbody tr th {\n",
              "        vertical-align: top;\n",
              "    }\n",
              "\n",
              "    .dataframe thead th {\n",
              "        text-align: right;\n",
              "    }\n",
              "</style>\n",
              "<table border=\"1\" class=\"dataframe\">\n",
              "  <thead>\n",
              "    <tr style=\"text-align: right;\">\n",
              "      <th></th>\n",
              "      <th>INCIDENT_KEY</th>\n",
              "      <th>OCCUR_DATE</th>\n",
              "      <th>OCCUR_TIME</th>\n",
              "      <th>BORO</th>\n",
              "      <th>JURISDICTION_CODE</th>\n",
              "      <th>LOCATION_DESC</th>\n",
              "      <th>STATISTICAL_MURDER_FLAG</th>\n",
              "      <th>PERP_AGE_GROUP</th>\n",
              "      <th>PERP_SEX</th>\n",
              "      <th>PERP_RACE</th>\n",
              "      <th>VIC_AGE_GROUP</th>\n",
              "      <th>VIC_SEX</th>\n",
              "      <th>VIC_RACE</th>\n",
              "      <th>MONTH</th>\n",
              "      <th>YEAR</th>\n",
              "    </tr>\n",
              "  </thead>\n",
              "  <tbody>\n",
              "    <tr>\n",
              "      <th>0</th>\n",
              "      <td>236168668</td>\n",
              "      <td>2021-11-11</td>\n",
              "      <td>15:04:00</td>\n",
              "      <td>BROOKLYN</td>\n",
              "      <td>0.0</td>\n",
              "      <td>NaN</td>\n",
              "      <td>False</td>\n",
              "      <td>NaN</td>\n",
              "      <td>NaN</td>\n",
              "      <td>NaN</td>\n",
              "      <td>18-24</td>\n",
              "      <td>M</td>\n",
              "      <td>BLACK</td>\n",
              "      <td>11</td>\n",
              "      <td>2021</td>\n",
              "    </tr>\n",
              "    <tr>\n",
              "      <th>1</th>\n",
              "      <td>231008085</td>\n",
              "      <td>2021-07-16</td>\n",
              "      <td>22:05:00</td>\n",
              "      <td>BROOKLYN</td>\n",
              "      <td>0.0</td>\n",
              "      <td>NaN</td>\n",
              "      <td>False</td>\n",
              "      <td>45-64</td>\n",
              "      <td>M</td>\n",
              "      <td>ASIAN / PACIFIC ISLANDER</td>\n",
              "      <td>25-44</td>\n",
              "      <td>M</td>\n",
              "      <td>ASIAN / PACIFIC ISLANDER</td>\n",
              "      <td>7</td>\n",
              "      <td>2021</td>\n",
              "    </tr>\n",
              "    <tr>\n",
              "      <th>2</th>\n",
              "      <td>230717903</td>\n",
              "      <td>2021-07-11</td>\n",
              "      <td>01:09:00</td>\n",
              "      <td>BROOKLYN</td>\n",
              "      <td>0.0</td>\n",
              "      <td>NaN</td>\n",
              "      <td>False</td>\n",
              "      <td>&lt;18</td>\n",
              "      <td>M</td>\n",
              "      <td>BLACK</td>\n",
              "      <td>25-44</td>\n",
              "      <td>M</td>\n",
              "      <td>BLACK</td>\n",
              "      <td>7</td>\n",
              "      <td>2021</td>\n",
              "    </tr>\n",
              "    <tr>\n",
              "      <th>3</th>\n",
              "      <td>237712309</td>\n",
              "      <td>2021-12-11</td>\n",
              "      <td>13:42:00</td>\n",
              "      <td>BROOKLYN</td>\n",
              "      <td>0.0</td>\n",
              "      <td>NaN</td>\n",
              "      <td>False</td>\n",
              "      <td>NaN</td>\n",
              "      <td>NaN</td>\n",
              "      <td>NaN</td>\n",
              "      <td>25-44</td>\n",
              "      <td>M</td>\n",
              "      <td>BLACK</td>\n",
              "      <td>12</td>\n",
              "      <td>2021</td>\n",
              "    </tr>\n",
              "    <tr>\n",
              "      <th>4</th>\n",
              "      <td>224465521</td>\n",
              "      <td>2021-02-16</td>\n",
              "      <td>20:00:00</td>\n",
              "      <td>QUEENS</td>\n",
              "      <td>0.0</td>\n",
              "      <td>NaN</td>\n",
              "      <td>False</td>\n",
              "      <td>NaN</td>\n",
              "      <td>NaN</td>\n",
              "      <td>NaN</td>\n",
              "      <td>25-44</td>\n",
              "      <td>M</td>\n",
              "      <td>BLACK</td>\n",
              "      <td>2</td>\n",
              "      <td>2021</td>\n",
              "    </tr>\n",
              "  </tbody>\n",
              "</table>\n",
              "</div>\n",
              "      <button class=\"colab-df-convert\" onclick=\"convertToInteractive('df-7d119bc9-b2f3-45c1-b2cd-3eb77bd250c1')\"\n",
              "              title=\"Convert this dataframe to an interactive table.\"\n",
              "              style=\"display:none;\">\n",
              "        \n",
              "  <svg xmlns=\"http://www.w3.org/2000/svg\" height=\"24px\"viewBox=\"0 0 24 24\"\n",
              "       width=\"24px\">\n",
              "    <path d=\"M0 0h24v24H0V0z\" fill=\"none\"/>\n",
              "    <path d=\"M18.56 5.44l.94 2.06.94-2.06 2.06-.94-2.06-.94-.94-2.06-.94 2.06-2.06.94zm-11 1L8.5 8.5l.94-2.06 2.06-.94-2.06-.94L8.5 2.5l-.94 2.06-2.06.94zm10 10l.94 2.06.94-2.06 2.06-.94-2.06-.94-.94-2.06-.94 2.06-2.06.94z\"/><path d=\"M17.41 7.96l-1.37-1.37c-.4-.4-.92-.59-1.43-.59-.52 0-1.04.2-1.43.59L10.3 9.45l-7.72 7.72c-.78.78-.78 2.05 0 2.83L4 21.41c.39.39.9.59 1.41.59.51 0 1.02-.2 1.41-.59l7.78-7.78 2.81-2.81c.8-.78.8-2.07 0-2.86zM5.41 20L4 18.59l7.72-7.72 1.47 1.35L5.41 20z\"/>\n",
              "  </svg>\n",
              "      </button>\n",
              "      \n",
              "  <style>\n",
              "    .colab-df-container {\n",
              "      display:flex;\n",
              "      flex-wrap:wrap;\n",
              "      gap: 12px;\n",
              "    }\n",
              "\n",
              "    .colab-df-convert {\n",
              "      background-color: #E8F0FE;\n",
              "      border: none;\n",
              "      border-radius: 50%;\n",
              "      cursor: pointer;\n",
              "      display: none;\n",
              "      fill: #1967D2;\n",
              "      height: 32px;\n",
              "      padding: 0 0 0 0;\n",
              "      width: 32px;\n",
              "    }\n",
              "\n",
              "    .colab-df-convert:hover {\n",
              "      background-color: #E2EBFA;\n",
              "      box-shadow: 0px 1px 2px rgba(60, 64, 67, 0.3), 0px 1px 3px 1px rgba(60, 64, 67, 0.15);\n",
              "      fill: #174EA6;\n",
              "    }\n",
              "\n",
              "    [theme=dark] .colab-df-convert {\n",
              "      background-color: #3B4455;\n",
              "      fill: #D2E3FC;\n",
              "    }\n",
              "\n",
              "    [theme=dark] .colab-df-convert:hover {\n",
              "      background-color: #434B5C;\n",
              "      box-shadow: 0px 1px 3px 1px rgba(0, 0, 0, 0.15);\n",
              "      filter: drop-shadow(0px 1px 2px rgba(0, 0, 0, 0.3));\n",
              "      fill: #FFFFFF;\n",
              "    }\n",
              "  </style>\n",
              "\n",
              "      <script>\n",
              "        const buttonEl =\n",
              "          document.querySelector('#df-7d119bc9-b2f3-45c1-b2cd-3eb77bd250c1 button.colab-df-convert');\n",
              "        buttonEl.style.display =\n",
              "          google.colab.kernel.accessAllowed ? 'block' : 'none';\n",
              "\n",
              "        async function convertToInteractive(key) {\n",
              "          const element = document.querySelector('#df-7d119bc9-b2f3-45c1-b2cd-3eb77bd250c1');\n",
              "          const dataTable =\n",
              "            await google.colab.kernel.invokeFunction('convertToInteractive',\n",
              "                                                     [key], {});\n",
              "          if (!dataTable) return;\n",
              "\n",
              "          const docLinkHtml = 'Like what you see? Visit the ' +\n",
              "            '<a target=\"_blank\" href=https://colab.research.google.com/notebooks/data_table.ipynb>data table notebook</a>'\n",
              "            + ' to learn more about interactive tables.';\n",
              "          element.innerHTML = '';\n",
              "          dataTable['output_type'] = 'display_data';\n",
              "          await google.colab.output.renderOutput(dataTable, element);\n",
              "          const docLink = document.createElement('div');\n",
              "          docLink.innerHTML = docLinkHtml;\n",
              "          element.appendChild(docLink);\n",
              "        }\n",
              "      </script>\n",
              "    </div>\n",
              "  </div>\n",
              "  "
            ]
          },
          "metadata": {},
          "execution_count": 15
        }
      ]
    },
    {
      "cell_type": "code",
      "source": [
        "df.MONTH.value_counts() #checking the # of shooting incidents per month. \n"
      ],
      "metadata": {
        "colab": {
          "base_uri": "https://localhost:8080/"
        },
        "id": "p_VzWlxHf-Qv",
        "outputId": "1d1d22b0-9430-48d2-976b-345b78618908"
      },
      "execution_count": 16,
      "outputs": [
        {
          "output_type": "execute_result",
          "data": {
            "text/plain": [
              "7     3009\n",
              "8     3002\n",
              "6     2657\n",
              "9     2416\n",
              "5     2401\n",
              "10    2176\n",
              "12    1894\n",
              "11    1843\n",
              "4     1828\n",
              "1     1600\n",
              "3     1532\n",
              "2     1238\n",
              "Name: MONTH, dtype: int64"
            ]
          },
          "metadata": {},
          "execution_count": 16
        }
      ]
    },
    {
      "cell_type": "code",
      "source": [
        "df.YEAR.value_counts() #checking the # of shooting incidents per year."
      ],
      "metadata": {
        "colab": {
          "base_uri": "https://localhost:8080/"
        },
        "id": "qP8XePjWgUK_",
        "outputId": "c8e8f9f2-e244-4154-80e5-3f20926ddce9"
      },
      "execution_count": 17,
      "outputs": [
        {
          "output_type": "execute_result",
          "data": {
            "text/plain": [
              "2006    2055\n",
              "2021    2011\n",
              "2008    1959\n",
              "2020    1948\n",
              "2011    1939\n",
              "2010    1912\n",
              "2007    1887\n",
              "2009    1828\n",
              "2012    1717\n",
              "2014    1464\n",
              "2015    1434\n",
              "2013    1339\n",
              "2016    1208\n",
              "2017     970\n",
              "2019     967\n",
              "2018     958\n",
              "Name: YEAR, dtype: int64"
            ]
          },
          "metadata": {},
          "execution_count": 17
        }
      ]
    },
    {
      "cell_type": "markdown",
      "source": [
        "##get_dummies function"
      ],
      "metadata": {
        "id": "QbPqB0LIZQWY"
      }
    },
    {
      "cell_type": "code",
      "source": [
        "\"\"\"The get_dummies function is used to convert categorical variables into dummy or indicator variables. A dummy or indicator variable can have a value of 0 or 1.\n",
        "The get_dummies function works as follows:\n",
        "It takes a data frame, series, or list.\n",
        "Then, it converts each unique element present in the object to a column heading.\n",
        "The function iterates over the object that is passed and checks if the element at the particular index matches the column heading.\n",
        "If it does, it encodes it as a 1.\n",
        "Otherwise, it assigns it a 0.\n",
        "-found this explanation on educative.io website.\n",
        " \"\"\""
      ],
      "metadata": {
        "colab": {
          "base_uri": "https://localhost:8080/",
          "height": 70
        },
        "id": "zDEv1igBNsTm",
        "outputId": "2d8283a1-eba1-494d-8e41-36bf1128bb06"
      },
      "execution_count": 18,
      "outputs": [
        {
          "output_type": "execute_result",
          "data": {
            "text/plain": [
              "'The get_dummies function is used to convert categorical variables into dummy or indicator variables. A dummy or indicator variable can have a value of 0 or 1.\\nThe get_dummies function works as follows:\\nIt takes a data frame, series, or list.\\nThen, it converts each unique element present in the object to a column heading.\\nThe function iterates over the object that is passed and checks if the element at the particular index matches the column heading.\\nIf it does, it encodes it as a 1.\\nOtherwise, it assigns it a 0.\\n-found this explanation on educative.io website.\\n '"
            ],
            "application/vnd.google.colaboratory.intrinsic+json": {
              "type": "string"
            }
          },
          "metadata": {},
          "execution_count": 18
        }
      ]
    },
    {
      "cell_type": "code",
      "source": [
        "dummy = pd.get_dummies(df['STATISTICAL_MURDER_FLAG']) "
      ],
      "metadata": {
        "id": "vpwte4CtiYFU"
      },
      "execution_count": 19,
      "outputs": []
    },
    {
      "cell_type": "code",
      "source": [
        "dummy.head()"
      ],
      "metadata": {
        "colab": {
          "base_uri": "https://localhost:8080/",
          "height": 206
        },
        "id": "1CxY1U7nrl65",
        "outputId": "bd5f1e87-0cf5-4b94-aed3-f6b332c3e57c"
      },
      "execution_count": 20,
      "outputs": [
        {
          "output_type": "execute_result",
          "data": {
            "text/plain": [
              "   False  True\n",
              "0      1     0\n",
              "1      1     0\n",
              "2      1     0\n",
              "3      1     0\n",
              "4      1     0"
            ],
            "text/html": [
              "\n",
              "  <div id=\"df-b94437f3-28f1-470d-a000-f9c326cb0af9\">\n",
              "    <div class=\"colab-df-container\">\n",
              "      <div>\n",
              "<style scoped>\n",
              "    .dataframe tbody tr th:only-of-type {\n",
              "        vertical-align: middle;\n",
              "    }\n",
              "\n",
              "    .dataframe tbody tr th {\n",
              "        vertical-align: top;\n",
              "    }\n",
              "\n",
              "    .dataframe thead th {\n",
              "        text-align: right;\n",
              "    }\n",
              "</style>\n",
              "<table border=\"1\" class=\"dataframe\">\n",
              "  <thead>\n",
              "    <tr style=\"text-align: right;\">\n",
              "      <th></th>\n",
              "      <th>False</th>\n",
              "      <th>True</th>\n",
              "    </tr>\n",
              "  </thead>\n",
              "  <tbody>\n",
              "    <tr>\n",
              "      <th>0</th>\n",
              "      <td>1</td>\n",
              "      <td>0</td>\n",
              "    </tr>\n",
              "    <tr>\n",
              "      <th>1</th>\n",
              "      <td>1</td>\n",
              "      <td>0</td>\n",
              "    </tr>\n",
              "    <tr>\n",
              "      <th>2</th>\n",
              "      <td>1</td>\n",
              "      <td>0</td>\n",
              "    </tr>\n",
              "    <tr>\n",
              "      <th>3</th>\n",
              "      <td>1</td>\n",
              "      <td>0</td>\n",
              "    </tr>\n",
              "    <tr>\n",
              "      <th>4</th>\n",
              "      <td>1</td>\n",
              "      <td>0</td>\n",
              "    </tr>\n",
              "  </tbody>\n",
              "</table>\n",
              "</div>\n",
              "      <button class=\"colab-df-convert\" onclick=\"convertToInteractive('df-b94437f3-28f1-470d-a000-f9c326cb0af9')\"\n",
              "              title=\"Convert this dataframe to an interactive table.\"\n",
              "              style=\"display:none;\">\n",
              "        \n",
              "  <svg xmlns=\"http://www.w3.org/2000/svg\" height=\"24px\"viewBox=\"0 0 24 24\"\n",
              "       width=\"24px\">\n",
              "    <path d=\"M0 0h24v24H0V0z\" fill=\"none\"/>\n",
              "    <path d=\"M18.56 5.44l.94 2.06.94-2.06 2.06-.94-2.06-.94-.94-2.06-.94 2.06-2.06.94zm-11 1L8.5 8.5l.94-2.06 2.06-.94-2.06-.94L8.5 2.5l-.94 2.06-2.06.94zm10 10l.94 2.06.94-2.06 2.06-.94-2.06-.94-.94-2.06-.94 2.06-2.06.94z\"/><path d=\"M17.41 7.96l-1.37-1.37c-.4-.4-.92-.59-1.43-.59-.52 0-1.04.2-1.43.59L10.3 9.45l-7.72 7.72c-.78.78-.78 2.05 0 2.83L4 21.41c.39.39.9.59 1.41.59.51 0 1.02-.2 1.41-.59l7.78-7.78 2.81-2.81c.8-.78.8-2.07 0-2.86zM5.41 20L4 18.59l7.72-7.72 1.47 1.35L5.41 20z\"/>\n",
              "  </svg>\n",
              "      </button>\n",
              "      \n",
              "  <style>\n",
              "    .colab-df-container {\n",
              "      display:flex;\n",
              "      flex-wrap:wrap;\n",
              "      gap: 12px;\n",
              "    }\n",
              "\n",
              "    .colab-df-convert {\n",
              "      background-color: #E8F0FE;\n",
              "      border: none;\n",
              "      border-radius: 50%;\n",
              "      cursor: pointer;\n",
              "      display: none;\n",
              "      fill: #1967D2;\n",
              "      height: 32px;\n",
              "      padding: 0 0 0 0;\n",
              "      width: 32px;\n",
              "    }\n",
              "\n",
              "    .colab-df-convert:hover {\n",
              "      background-color: #E2EBFA;\n",
              "      box-shadow: 0px 1px 2px rgba(60, 64, 67, 0.3), 0px 1px 3px 1px rgba(60, 64, 67, 0.15);\n",
              "      fill: #174EA6;\n",
              "    }\n",
              "\n",
              "    [theme=dark] .colab-df-convert {\n",
              "      background-color: #3B4455;\n",
              "      fill: #D2E3FC;\n",
              "    }\n",
              "\n",
              "    [theme=dark] .colab-df-convert:hover {\n",
              "      background-color: #434B5C;\n",
              "      box-shadow: 0px 1px 3px 1px rgba(0, 0, 0, 0.15);\n",
              "      filter: drop-shadow(0px 1px 2px rgba(0, 0, 0, 0.3));\n",
              "      fill: #FFFFFF;\n",
              "    }\n",
              "  </style>\n",
              "\n",
              "      <script>\n",
              "        const buttonEl =\n",
              "          document.querySelector('#df-b94437f3-28f1-470d-a000-f9c326cb0af9 button.colab-df-convert');\n",
              "        buttonEl.style.display =\n",
              "          google.colab.kernel.accessAllowed ? 'block' : 'none';\n",
              "\n",
              "        async function convertToInteractive(key) {\n",
              "          const element = document.querySelector('#df-b94437f3-28f1-470d-a000-f9c326cb0af9');\n",
              "          const dataTable =\n",
              "            await google.colab.kernel.invokeFunction('convertToInteractive',\n",
              "                                                     [key], {});\n",
              "          if (!dataTable) return;\n",
              "\n",
              "          const docLinkHtml = 'Like what you see? Visit the ' +\n",
              "            '<a target=\"_blank\" href=https://colab.research.google.com/notebooks/data_table.ipynb>data table notebook</a>'\n",
              "            + ' to learn more about interactive tables.';\n",
              "          element.innerHTML = '';\n",
              "          dataTable['output_type'] = 'display_data';\n",
              "          await google.colab.output.renderOutput(dataTable, element);\n",
              "          const docLink = document.createElement('div');\n",
              "          docLink.innerHTML = docLinkHtml;\n",
              "          element.appendChild(docLink);\n",
              "        }\n",
              "      </script>\n",
              "    </div>\n",
              "  </div>\n",
              "  "
            ]
          },
          "metadata": {},
          "execution_count": 20
        }
      ]
    },
    {
      "cell_type": "code",
      "source": [
        "df2 = pd.concat((df,dummy), axis=1) #combining df with the dummy variable using concat function"
      ],
      "metadata": {
        "id": "nuB0Na2Jqv0q"
      },
      "execution_count": 21,
      "outputs": []
    },
    {
      "cell_type": "code",
      "source": [
        "df2.head() #checking that the concat worked."
      ],
      "metadata": {
        "colab": {
          "base_uri": "https://localhost:8080/",
          "height": 268
        },
        "id": "Ee3IUbPar7n-",
        "outputId": "b53289dc-bca6-4589-ae24-8ea0d486571c"
      },
      "execution_count": 22,
      "outputs": [
        {
          "output_type": "execute_result",
          "data": {
            "text/plain": [
              "   INCIDENT_KEY OCCUR_DATE OCCUR_TIME      BORO  JURISDICTION_CODE  \\\n",
              "0     236168668 2021-11-11   15:04:00  BROOKLYN                0.0   \n",
              "1     231008085 2021-07-16   22:05:00  BROOKLYN                0.0   \n",
              "2     230717903 2021-07-11   01:09:00  BROOKLYN                0.0   \n",
              "3     237712309 2021-12-11   13:42:00  BROOKLYN                0.0   \n",
              "4     224465521 2021-02-16   20:00:00    QUEENS                0.0   \n",
              "\n",
              "  LOCATION_DESC  STATISTICAL_MURDER_FLAG PERP_AGE_GROUP PERP_SEX  \\\n",
              "0           NaN                    False            NaN      NaN   \n",
              "1           NaN                    False          45-64        M   \n",
              "2           NaN                    False            <18        M   \n",
              "3           NaN                    False            NaN      NaN   \n",
              "4           NaN                    False            NaN      NaN   \n",
              "\n",
              "                  PERP_RACE VIC_AGE_GROUP VIC_SEX                  VIC_RACE  \\\n",
              "0                       NaN         18-24       M                     BLACK   \n",
              "1  ASIAN / PACIFIC ISLANDER         25-44       M  ASIAN / PACIFIC ISLANDER   \n",
              "2                     BLACK         25-44       M                     BLACK   \n",
              "3                       NaN         25-44       M                     BLACK   \n",
              "4                       NaN         25-44       M                     BLACK   \n",
              "\n",
              "   MONTH  YEAR  False  True  \n",
              "0     11  2021      1     0  \n",
              "1      7  2021      1     0  \n",
              "2      7  2021      1     0  \n",
              "3     12  2021      1     0  \n",
              "4      2  2021      1     0  "
            ],
            "text/html": [
              "\n",
              "  <div id=\"df-9379562d-7b94-4165-b222-2d00f0afe8b2\">\n",
              "    <div class=\"colab-df-container\">\n",
              "      <div>\n",
              "<style scoped>\n",
              "    .dataframe tbody tr th:only-of-type {\n",
              "        vertical-align: middle;\n",
              "    }\n",
              "\n",
              "    .dataframe tbody tr th {\n",
              "        vertical-align: top;\n",
              "    }\n",
              "\n",
              "    .dataframe thead th {\n",
              "        text-align: right;\n",
              "    }\n",
              "</style>\n",
              "<table border=\"1\" class=\"dataframe\">\n",
              "  <thead>\n",
              "    <tr style=\"text-align: right;\">\n",
              "      <th></th>\n",
              "      <th>INCIDENT_KEY</th>\n",
              "      <th>OCCUR_DATE</th>\n",
              "      <th>OCCUR_TIME</th>\n",
              "      <th>BORO</th>\n",
              "      <th>JURISDICTION_CODE</th>\n",
              "      <th>LOCATION_DESC</th>\n",
              "      <th>STATISTICAL_MURDER_FLAG</th>\n",
              "      <th>PERP_AGE_GROUP</th>\n",
              "      <th>PERP_SEX</th>\n",
              "      <th>PERP_RACE</th>\n",
              "      <th>VIC_AGE_GROUP</th>\n",
              "      <th>VIC_SEX</th>\n",
              "      <th>VIC_RACE</th>\n",
              "      <th>MONTH</th>\n",
              "      <th>YEAR</th>\n",
              "      <th>False</th>\n",
              "      <th>True</th>\n",
              "    </tr>\n",
              "  </thead>\n",
              "  <tbody>\n",
              "    <tr>\n",
              "      <th>0</th>\n",
              "      <td>236168668</td>\n",
              "      <td>2021-11-11</td>\n",
              "      <td>15:04:00</td>\n",
              "      <td>BROOKLYN</td>\n",
              "      <td>0.0</td>\n",
              "      <td>NaN</td>\n",
              "      <td>False</td>\n",
              "      <td>NaN</td>\n",
              "      <td>NaN</td>\n",
              "      <td>NaN</td>\n",
              "      <td>18-24</td>\n",
              "      <td>M</td>\n",
              "      <td>BLACK</td>\n",
              "      <td>11</td>\n",
              "      <td>2021</td>\n",
              "      <td>1</td>\n",
              "      <td>0</td>\n",
              "    </tr>\n",
              "    <tr>\n",
              "      <th>1</th>\n",
              "      <td>231008085</td>\n",
              "      <td>2021-07-16</td>\n",
              "      <td>22:05:00</td>\n",
              "      <td>BROOKLYN</td>\n",
              "      <td>0.0</td>\n",
              "      <td>NaN</td>\n",
              "      <td>False</td>\n",
              "      <td>45-64</td>\n",
              "      <td>M</td>\n",
              "      <td>ASIAN / PACIFIC ISLANDER</td>\n",
              "      <td>25-44</td>\n",
              "      <td>M</td>\n",
              "      <td>ASIAN / PACIFIC ISLANDER</td>\n",
              "      <td>7</td>\n",
              "      <td>2021</td>\n",
              "      <td>1</td>\n",
              "      <td>0</td>\n",
              "    </tr>\n",
              "    <tr>\n",
              "      <th>2</th>\n",
              "      <td>230717903</td>\n",
              "      <td>2021-07-11</td>\n",
              "      <td>01:09:00</td>\n",
              "      <td>BROOKLYN</td>\n",
              "      <td>0.0</td>\n",
              "      <td>NaN</td>\n",
              "      <td>False</td>\n",
              "      <td>&lt;18</td>\n",
              "      <td>M</td>\n",
              "      <td>BLACK</td>\n",
              "      <td>25-44</td>\n",
              "      <td>M</td>\n",
              "      <td>BLACK</td>\n",
              "      <td>7</td>\n",
              "      <td>2021</td>\n",
              "      <td>1</td>\n",
              "      <td>0</td>\n",
              "    </tr>\n",
              "    <tr>\n",
              "      <th>3</th>\n",
              "      <td>237712309</td>\n",
              "      <td>2021-12-11</td>\n",
              "      <td>13:42:00</td>\n",
              "      <td>BROOKLYN</td>\n",
              "      <td>0.0</td>\n",
              "      <td>NaN</td>\n",
              "      <td>False</td>\n",
              "      <td>NaN</td>\n",
              "      <td>NaN</td>\n",
              "      <td>NaN</td>\n",
              "      <td>25-44</td>\n",
              "      <td>M</td>\n",
              "      <td>BLACK</td>\n",
              "      <td>12</td>\n",
              "      <td>2021</td>\n",
              "      <td>1</td>\n",
              "      <td>0</td>\n",
              "    </tr>\n",
              "    <tr>\n",
              "      <th>4</th>\n",
              "      <td>224465521</td>\n",
              "      <td>2021-02-16</td>\n",
              "      <td>20:00:00</td>\n",
              "      <td>QUEENS</td>\n",
              "      <td>0.0</td>\n",
              "      <td>NaN</td>\n",
              "      <td>False</td>\n",
              "      <td>NaN</td>\n",
              "      <td>NaN</td>\n",
              "      <td>NaN</td>\n",
              "      <td>25-44</td>\n",
              "      <td>M</td>\n",
              "      <td>BLACK</td>\n",
              "      <td>2</td>\n",
              "      <td>2021</td>\n",
              "      <td>1</td>\n",
              "      <td>0</td>\n",
              "    </tr>\n",
              "  </tbody>\n",
              "</table>\n",
              "</div>\n",
              "      <button class=\"colab-df-convert\" onclick=\"convertToInteractive('df-9379562d-7b94-4165-b222-2d00f0afe8b2')\"\n",
              "              title=\"Convert this dataframe to an interactive table.\"\n",
              "              style=\"display:none;\">\n",
              "        \n",
              "  <svg xmlns=\"http://www.w3.org/2000/svg\" height=\"24px\"viewBox=\"0 0 24 24\"\n",
              "       width=\"24px\">\n",
              "    <path d=\"M0 0h24v24H0V0z\" fill=\"none\"/>\n",
              "    <path d=\"M18.56 5.44l.94 2.06.94-2.06 2.06-.94-2.06-.94-.94-2.06-.94 2.06-2.06.94zm-11 1L8.5 8.5l.94-2.06 2.06-.94-2.06-.94L8.5 2.5l-.94 2.06-2.06.94zm10 10l.94 2.06.94-2.06 2.06-.94-2.06-.94-.94-2.06-.94 2.06-2.06.94z\"/><path d=\"M17.41 7.96l-1.37-1.37c-.4-.4-.92-.59-1.43-.59-.52 0-1.04.2-1.43.59L10.3 9.45l-7.72 7.72c-.78.78-.78 2.05 0 2.83L4 21.41c.39.39.9.59 1.41.59.51 0 1.02-.2 1.41-.59l7.78-7.78 2.81-2.81c.8-.78.8-2.07 0-2.86zM5.41 20L4 18.59l7.72-7.72 1.47 1.35L5.41 20z\"/>\n",
              "  </svg>\n",
              "      </button>\n",
              "      \n",
              "  <style>\n",
              "    .colab-df-container {\n",
              "      display:flex;\n",
              "      flex-wrap:wrap;\n",
              "      gap: 12px;\n",
              "    }\n",
              "\n",
              "    .colab-df-convert {\n",
              "      background-color: #E8F0FE;\n",
              "      border: none;\n",
              "      border-radius: 50%;\n",
              "      cursor: pointer;\n",
              "      display: none;\n",
              "      fill: #1967D2;\n",
              "      height: 32px;\n",
              "      padding: 0 0 0 0;\n",
              "      width: 32px;\n",
              "    }\n",
              "\n",
              "    .colab-df-convert:hover {\n",
              "      background-color: #E2EBFA;\n",
              "      box-shadow: 0px 1px 2px rgba(60, 64, 67, 0.3), 0px 1px 3px 1px rgba(60, 64, 67, 0.15);\n",
              "      fill: #174EA6;\n",
              "    }\n",
              "\n",
              "    [theme=dark] .colab-df-convert {\n",
              "      background-color: #3B4455;\n",
              "      fill: #D2E3FC;\n",
              "    }\n",
              "\n",
              "    [theme=dark] .colab-df-convert:hover {\n",
              "      background-color: #434B5C;\n",
              "      box-shadow: 0px 1px 3px 1px rgba(0, 0, 0, 0.15);\n",
              "      filter: drop-shadow(0px 1px 2px rgba(0, 0, 0, 0.3));\n",
              "      fill: #FFFFFF;\n",
              "    }\n",
              "  </style>\n",
              "\n",
              "      <script>\n",
              "        const buttonEl =\n",
              "          document.querySelector('#df-9379562d-7b94-4165-b222-2d00f0afe8b2 button.colab-df-convert');\n",
              "        buttonEl.style.display =\n",
              "          google.colab.kernel.accessAllowed ? 'block' : 'none';\n",
              "\n",
              "        async function convertToInteractive(key) {\n",
              "          const element = document.querySelector('#df-9379562d-7b94-4165-b222-2d00f0afe8b2');\n",
              "          const dataTable =\n",
              "            await google.colab.kernel.invokeFunction('convertToInteractive',\n",
              "                                                     [key], {});\n",
              "          if (!dataTable) return;\n",
              "\n",
              "          const docLinkHtml = 'Like what you see? Visit the ' +\n",
              "            '<a target=\"_blank\" href=https://colab.research.google.com/notebooks/data_table.ipynb>data table notebook</a>'\n",
              "            + ' to learn more about interactive tables.';\n",
              "          element.innerHTML = '';\n",
              "          dataTable['output_type'] = 'display_data';\n",
              "          await google.colab.output.renderOutput(dataTable, element);\n",
              "          const docLink = document.createElement('div');\n",
              "          docLink.innerHTML = docLinkHtml;\n",
              "          element.appendChild(docLink);\n",
              "        }\n",
              "      </script>\n",
              "    </div>\n",
              "  </div>\n",
              "  "
            ]
          },
          "metadata": {},
          "execution_count": 22
        }
      ]
    },
    {
      "cell_type": "code",
      "source": [
        "df2 = df2.drop(['STATISTICAL_MURDER_FLAG', True], axis = 1) #dropping the columns i no longer need while retaining the one i need. "
      ],
      "metadata": {
        "id": "Mo3nhLWisuNI"
      },
      "execution_count": 23,
      "outputs": []
    },
    {
      "cell_type": "code",
      "source": [
        "df2.info()"
      ],
      "metadata": {
        "colab": {
          "base_uri": "https://localhost:8080/"
        },
        "id": "sb7KC2GiuVLr",
        "outputId": "b7cb19eb-2af2-4aa4-c49c-33fc1f4d4d9b"
      },
      "execution_count": 24,
      "outputs": [
        {
          "output_type": "stream",
          "name": "stdout",
          "text": [
            "<class 'pandas.core.frame.DataFrame'>\n",
            "RangeIndex: 25596 entries, 0 to 25595\n",
            "Data columns (total 15 columns):\n",
            " #   Column             Non-Null Count  Dtype         \n",
            "---  ------             --------------  -----         \n",
            " 0   INCIDENT_KEY       25596 non-null  int64         \n",
            " 1   OCCUR_DATE         25596 non-null  datetime64[ns]\n",
            " 2   OCCUR_TIME         25596 non-null  object        \n",
            " 3   BORO               25596 non-null  object        \n",
            " 4   JURISDICTION_CODE  25594 non-null  float64       \n",
            " 5   LOCATION_DESC      10619 non-null  object        \n",
            " 6   PERP_AGE_GROUP     16252 non-null  object        \n",
            " 7   PERP_SEX           16286 non-null  object        \n",
            " 8   PERP_RACE          16286 non-null  object        \n",
            " 9   VIC_AGE_GROUP      25596 non-null  object        \n",
            " 10  VIC_SEX            25596 non-null  object        \n",
            " 11  VIC_RACE           25596 non-null  object        \n",
            " 12  MONTH              25596 non-null  int64         \n",
            " 13  YEAR               25596 non-null  int64         \n",
            " 14  False              25596 non-null  uint8         \n",
            "dtypes: datetime64[ns](1), float64(1), int64(3), object(9), uint8(1)\n",
            "memory usage: 2.8+ MB\n"
          ]
        }
      ]
    },
    {
      "cell_type": "code",
      "source": [
        "df2.head(10)"
      ],
      "metadata": {
        "colab": {
          "base_uri": "https://localhost:8080/",
          "height": 363
        },
        "id": "iBJevCIZxGnZ",
        "outputId": "ab35f9b8-3db2-4328-bfec-e9c877594509"
      },
      "execution_count": 25,
      "outputs": [
        {
          "output_type": "execute_result",
          "data": {
            "text/plain": [
              "   INCIDENT_KEY OCCUR_DATE OCCUR_TIME       BORO  JURISDICTION_CODE  \\\n",
              "0     236168668 2021-11-11   15:04:00   BROOKLYN                0.0   \n",
              "1     231008085 2021-07-16   22:05:00   BROOKLYN                0.0   \n",
              "2     230717903 2021-07-11   01:09:00   BROOKLYN                0.0   \n",
              "3     237712309 2021-12-11   13:42:00   BROOKLYN                0.0   \n",
              "4     224465521 2021-02-16   20:00:00     QUEENS                0.0   \n",
              "5     228252164 2021-05-15   04:13:00     QUEENS                0.0   \n",
              "6     226950018 2021-04-14   21:08:00      BRONX                0.0   \n",
              "7     237710987 2021-12-10   19:30:00      BRONX                0.0   \n",
              "8     224701998 2021-02-22   00:18:00  MANHATTAN                0.0   \n",
              "9     225295736 2021-03-07   06:15:00   BROOKLYN                0.0   \n",
              "\n",
              "     LOCATION_DESC PERP_AGE_GROUP PERP_SEX                 PERP_RACE  \\\n",
              "0              NaN            NaN      NaN                       NaN   \n",
              "1              NaN          45-64        M  ASIAN / PACIFIC ISLANDER   \n",
              "2              NaN            <18        M                     BLACK   \n",
              "3              NaN            NaN      NaN                       NaN   \n",
              "4              NaN            NaN      NaN                       NaN   \n",
              "5              NaN            NaN      NaN                       NaN   \n",
              "6  COMMERCIAL BLDG            NaN      NaN                       NaN   \n",
              "7              NaN            NaN      NaN                       NaN   \n",
              "8              NaN            NaN      NaN                       NaN   \n",
              "9              NaN          25-44        M            BLACK HISPANIC   \n",
              "\n",
              "  VIC_AGE_GROUP VIC_SEX                  VIC_RACE  MONTH  YEAR  False  \n",
              "0         18-24       M                     BLACK     11  2021      1  \n",
              "1         25-44       M  ASIAN / PACIFIC ISLANDER      7  2021      1  \n",
              "2         25-44       M                     BLACK      7  2021      1  \n",
              "3         25-44       M                     BLACK     12  2021      1  \n",
              "4         25-44       M                     BLACK      2  2021      1  \n",
              "5         25-44       M                     BLACK      5  2021      0  \n",
              "6         18-24       M                     BLACK      4  2021      0  \n",
              "7         25-44       M                     BLACK     12  2021      1  \n",
              "8         25-44       M            BLACK HISPANIC      2  2021      1  \n",
              "9         25-44       M            WHITE HISPANIC      3  2021      0  "
            ],
            "text/html": [
              "\n",
              "  <div id=\"df-f8056348-2769-4df0-9920-a40a33517fa1\">\n",
              "    <div class=\"colab-df-container\">\n",
              "      <div>\n",
              "<style scoped>\n",
              "    .dataframe tbody tr th:only-of-type {\n",
              "        vertical-align: middle;\n",
              "    }\n",
              "\n",
              "    .dataframe tbody tr th {\n",
              "        vertical-align: top;\n",
              "    }\n",
              "\n",
              "    .dataframe thead th {\n",
              "        text-align: right;\n",
              "    }\n",
              "</style>\n",
              "<table border=\"1\" class=\"dataframe\">\n",
              "  <thead>\n",
              "    <tr style=\"text-align: right;\">\n",
              "      <th></th>\n",
              "      <th>INCIDENT_KEY</th>\n",
              "      <th>OCCUR_DATE</th>\n",
              "      <th>OCCUR_TIME</th>\n",
              "      <th>BORO</th>\n",
              "      <th>JURISDICTION_CODE</th>\n",
              "      <th>LOCATION_DESC</th>\n",
              "      <th>PERP_AGE_GROUP</th>\n",
              "      <th>PERP_SEX</th>\n",
              "      <th>PERP_RACE</th>\n",
              "      <th>VIC_AGE_GROUP</th>\n",
              "      <th>VIC_SEX</th>\n",
              "      <th>VIC_RACE</th>\n",
              "      <th>MONTH</th>\n",
              "      <th>YEAR</th>\n",
              "      <th>False</th>\n",
              "    </tr>\n",
              "  </thead>\n",
              "  <tbody>\n",
              "    <tr>\n",
              "      <th>0</th>\n",
              "      <td>236168668</td>\n",
              "      <td>2021-11-11</td>\n",
              "      <td>15:04:00</td>\n",
              "      <td>BROOKLYN</td>\n",
              "      <td>0.0</td>\n",
              "      <td>NaN</td>\n",
              "      <td>NaN</td>\n",
              "      <td>NaN</td>\n",
              "      <td>NaN</td>\n",
              "      <td>18-24</td>\n",
              "      <td>M</td>\n",
              "      <td>BLACK</td>\n",
              "      <td>11</td>\n",
              "      <td>2021</td>\n",
              "      <td>1</td>\n",
              "    </tr>\n",
              "    <tr>\n",
              "      <th>1</th>\n",
              "      <td>231008085</td>\n",
              "      <td>2021-07-16</td>\n",
              "      <td>22:05:00</td>\n",
              "      <td>BROOKLYN</td>\n",
              "      <td>0.0</td>\n",
              "      <td>NaN</td>\n",
              "      <td>45-64</td>\n",
              "      <td>M</td>\n",
              "      <td>ASIAN / PACIFIC ISLANDER</td>\n",
              "      <td>25-44</td>\n",
              "      <td>M</td>\n",
              "      <td>ASIAN / PACIFIC ISLANDER</td>\n",
              "      <td>7</td>\n",
              "      <td>2021</td>\n",
              "      <td>1</td>\n",
              "    </tr>\n",
              "    <tr>\n",
              "      <th>2</th>\n",
              "      <td>230717903</td>\n",
              "      <td>2021-07-11</td>\n",
              "      <td>01:09:00</td>\n",
              "      <td>BROOKLYN</td>\n",
              "      <td>0.0</td>\n",
              "      <td>NaN</td>\n",
              "      <td>&lt;18</td>\n",
              "      <td>M</td>\n",
              "      <td>BLACK</td>\n",
              "      <td>25-44</td>\n",
              "      <td>M</td>\n",
              "      <td>BLACK</td>\n",
              "      <td>7</td>\n",
              "      <td>2021</td>\n",
              "      <td>1</td>\n",
              "    </tr>\n",
              "    <tr>\n",
              "      <th>3</th>\n",
              "      <td>237712309</td>\n",
              "      <td>2021-12-11</td>\n",
              "      <td>13:42:00</td>\n",
              "      <td>BROOKLYN</td>\n",
              "      <td>0.0</td>\n",
              "      <td>NaN</td>\n",
              "      <td>NaN</td>\n",
              "      <td>NaN</td>\n",
              "      <td>NaN</td>\n",
              "      <td>25-44</td>\n",
              "      <td>M</td>\n",
              "      <td>BLACK</td>\n",
              "      <td>12</td>\n",
              "      <td>2021</td>\n",
              "      <td>1</td>\n",
              "    </tr>\n",
              "    <tr>\n",
              "      <th>4</th>\n",
              "      <td>224465521</td>\n",
              "      <td>2021-02-16</td>\n",
              "      <td>20:00:00</td>\n",
              "      <td>QUEENS</td>\n",
              "      <td>0.0</td>\n",
              "      <td>NaN</td>\n",
              "      <td>NaN</td>\n",
              "      <td>NaN</td>\n",
              "      <td>NaN</td>\n",
              "      <td>25-44</td>\n",
              "      <td>M</td>\n",
              "      <td>BLACK</td>\n",
              "      <td>2</td>\n",
              "      <td>2021</td>\n",
              "      <td>1</td>\n",
              "    </tr>\n",
              "    <tr>\n",
              "      <th>5</th>\n",
              "      <td>228252164</td>\n",
              "      <td>2021-05-15</td>\n",
              "      <td>04:13:00</td>\n",
              "      <td>QUEENS</td>\n",
              "      <td>0.0</td>\n",
              "      <td>NaN</td>\n",
              "      <td>NaN</td>\n",
              "      <td>NaN</td>\n",
              "      <td>NaN</td>\n",
              "      <td>25-44</td>\n",
              "      <td>M</td>\n",
              "      <td>BLACK</td>\n",
              "      <td>5</td>\n",
              "      <td>2021</td>\n",
              "      <td>0</td>\n",
              "    </tr>\n",
              "    <tr>\n",
              "      <th>6</th>\n",
              "      <td>226950018</td>\n",
              "      <td>2021-04-14</td>\n",
              "      <td>21:08:00</td>\n",
              "      <td>BRONX</td>\n",
              "      <td>0.0</td>\n",
              "      <td>COMMERCIAL BLDG</td>\n",
              "      <td>NaN</td>\n",
              "      <td>NaN</td>\n",
              "      <td>NaN</td>\n",
              "      <td>18-24</td>\n",
              "      <td>M</td>\n",
              "      <td>BLACK</td>\n",
              "      <td>4</td>\n",
              "      <td>2021</td>\n",
              "      <td>0</td>\n",
              "    </tr>\n",
              "    <tr>\n",
              "      <th>7</th>\n",
              "      <td>237710987</td>\n",
              "      <td>2021-12-10</td>\n",
              "      <td>19:30:00</td>\n",
              "      <td>BRONX</td>\n",
              "      <td>0.0</td>\n",
              "      <td>NaN</td>\n",
              "      <td>NaN</td>\n",
              "      <td>NaN</td>\n",
              "      <td>NaN</td>\n",
              "      <td>25-44</td>\n",
              "      <td>M</td>\n",
              "      <td>BLACK</td>\n",
              "      <td>12</td>\n",
              "      <td>2021</td>\n",
              "      <td>1</td>\n",
              "    </tr>\n",
              "    <tr>\n",
              "      <th>8</th>\n",
              "      <td>224701998</td>\n",
              "      <td>2021-02-22</td>\n",
              "      <td>00:18:00</td>\n",
              "      <td>MANHATTAN</td>\n",
              "      <td>0.0</td>\n",
              "      <td>NaN</td>\n",
              "      <td>NaN</td>\n",
              "      <td>NaN</td>\n",
              "      <td>NaN</td>\n",
              "      <td>25-44</td>\n",
              "      <td>M</td>\n",
              "      <td>BLACK HISPANIC</td>\n",
              "      <td>2</td>\n",
              "      <td>2021</td>\n",
              "      <td>1</td>\n",
              "    </tr>\n",
              "    <tr>\n",
              "      <th>9</th>\n",
              "      <td>225295736</td>\n",
              "      <td>2021-03-07</td>\n",
              "      <td>06:15:00</td>\n",
              "      <td>BROOKLYN</td>\n",
              "      <td>0.0</td>\n",
              "      <td>NaN</td>\n",
              "      <td>25-44</td>\n",
              "      <td>M</td>\n",
              "      <td>BLACK HISPANIC</td>\n",
              "      <td>25-44</td>\n",
              "      <td>M</td>\n",
              "      <td>WHITE HISPANIC</td>\n",
              "      <td>3</td>\n",
              "      <td>2021</td>\n",
              "      <td>0</td>\n",
              "    </tr>\n",
              "  </tbody>\n",
              "</table>\n",
              "</div>\n",
              "      <button class=\"colab-df-convert\" onclick=\"convertToInteractive('df-f8056348-2769-4df0-9920-a40a33517fa1')\"\n",
              "              title=\"Convert this dataframe to an interactive table.\"\n",
              "              style=\"display:none;\">\n",
              "        \n",
              "  <svg xmlns=\"http://www.w3.org/2000/svg\" height=\"24px\"viewBox=\"0 0 24 24\"\n",
              "       width=\"24px\">\n",
              "    <path d=\"M0 0h24v24H0V0z\" fill=\"none\"/>\n",
              "    <path d=\"M18.56 5.44l.94 2.06.94-2.06 2.06-.94-2.06-.94-.94-2.06-.94 2.06-2.06.94zm-11 1L8.5 8.5l.94-2.06 2.06-.94-2.06-.94L8.5 2.5l-.94 2.06-2.06.94zm10 10l.94 2.06.94-2.06 2.06-.94-2.06-.94-.94-2.06-.94 2.06-2.06.94z\"/><path d=\"M17.41 7.96l-1.37-1.37c-.4-.4-.92-.59-1.43-.59-.52 0-1.04.2-1.43.59L10.3 9.45l-7.72 7.72c-.78.78-.78 2.05 0 2.83L4 21.41c.39.39.9.59 1.41.59.51 0 1.02-.2 1.41-.59l7.78-7.78 2.81-2.81c.8-.78.8-2.07 0-2.86zM5.41 20L4 18.59l7.72-7.72 1.47 1.35L5.41 20z\"/>\n",
              "  </svg>\n",
              "      </button>\n",
              "      \n",
              "  <style>\n",
              "    .colab-df-container {\n",
              "      display:flex;\n",
              "      flex-wrap:wrap;\n",
              "      gap: 12px;\n",
              "    }\n",
              "\n",
              "    .colab-df-convert {\n",
              "      background-color: #E8F0FE;\n",
              "      border: none;\n",
              "      border-radius: 50%;\n",
              "      cursor: pointer;\n",
              "      display: none;\n",
              "      fill: #1967D2;\n",
              "      height: 32px;\n",
              "      padding: 0 0 0 0;\n",
              "      width: 32px;\n",
              "    }\n",
              "\n",
              "    .colab-df-convert:hover {\n",
              "      background-color: #E2EBFA;\n",
              "      box-shadow: 0px 1px 2px rgba(60, 64, 67, 0.3), 0px 1px 3px 1px rgba(60, 64, 67, 0.15);\n",
              "      fill: #174EA6;\n",
              "    }\n",
              "\n",
              "    [theme=dark] .colab-df-convert {\n",
              "      background-color: #3B4455;\n",
              "      fill: #D2E3FC;\n",
              "    }\n",
              "\n",
              "    [theme=dark] .colab-df-convert:hover {\n",
              "      background-color: #434B5C;\n",
              "      box-shadow: 0px 1px 3px 1px rgba(0, 0, 0, 0.15);\n",
              "      filter: drop-shadow(0px 1px 2px rgba(0, 0, 0, 0.3));\n",
              "      fill: #FFFFFF;\n",
              "    }\n",
              "  </style>\n",
              "\n",
              "      <script>\n",
              "        const buttonEl =\n",
              "          document.querySelector('#df-f8056348-2769-4df0-9920-a40a33517fa1 button.colab-df-convert');\n",
              "        buttonEl.style.display =\n",
              "          google.colab.kernel.accessAllowed ? 'block' : 'none';\n",
              "\n",
              "        async function convertToInteractive(key) {\n",
              "          const element = document.querySelector('#df-f8056348-2769-4df0-9920-a40a33517fa1');\n",
              "          const dataTable =\n",
              "            await google.colab.kernel.invokeFunction('convertToInteractive',\n",
              "                                                     [key], {});\n",
              "          if (!dataTable) return;\n",
              "\n",
              "          const docLinkHtml = 'Like what you see? Visit the ' +\n",
              "            '<a target=\"_blank\" href=https://colab.research.google.com/notebooks/data_table.ipynb>data table notebook</a>'\n",
              "            + ' to learn more about interactive tables.';\n",
              "          element.innerHTML = '';\n",
              "          dataTable['output_type'] = 'display_data';\n",
              "          await google.colab.output.renderOutput(dataTable, element);\n",
              "          const docLink = document.createElement('div');\n",
              "          docLink.innerHTML = docLinkHtml;\n",
              "          element.appendChild(docLink);\n",
              "        }\n",
              "      </script>\n",
              "    </div>\n",
              "  </div>\n",
              "  "
            ]
          },
          "metadata": {},
          "execution_count": 25
        }
      ]
    },
    {
      "cell_type": "code",
      "source": [
        "df2.rename(columns={False:'Survived'}, inplace=True)#renaming my new column"
      ],
      "metadata": {
        "id": "v6K69x4dxSdF"
      },
      "execution_count": 26,
      "outputs": []
    },
    {
      "cell_type": "code",
      "source": [
        "print(df2.columns)"
      ],
      "metadata": {
        "colab": {
          "base_uri": "https://localhost:8080/"
        },
        "id": "Uv_eygmXzdXV",
        "outputId": "f06db341-b752-4f54-8f2c-60145382605b"
      },
      "execution_count": 27,
      "outputs": [
        {
          "output_type": "stream",
          "name": "stdout",
          "text": [
            "Index(['INCIDENT_KEY', 'OCCUR_DATE', 'OCCUR_TIME', 'BORO', 'JURISDICTION_CODE',\n",
            "       'LOCATION_DESC', 'PERP_AGE_GROUP', 'PERP_SEX', 'PERP_RACE',\n",
            "       'VIC_AGE_GROUP', 'VIC_SEX', 'VIC_RACE', 'MONTH', 'YEAR', 'Survived'],\n",
            "      dtype='object')\n"
          ]
        }
      ]
    },
    {
      "cell_type": "markdown",
      "source": [
        "##Reordering Columns"
      ],
      "metadata": {
        "id": "FxoARdmAZ5FA"
      }
    },
    {
      "cell_type": "code",
      "source": [
        "new_columns = ['OCCUR_DATE', 'MONTH', 'YEAR', 'OCCUR_TIME', 'BORO', 'LOCATION_DESC', 'Survived', 'PERP_AGE_GROUP', 'PERP_SEX', 'PERP_RACE',\n",
        "                'VIC_AGE_GROUP', 'VIC_SEX', 'VIC_RACE', 'JURISDICTION_CODE']\n",
        "df2 = df2[new_columns]"
      ],
      "metadata": {
        "id": "uOWP7ubqzkRZ"
      },
      "execution_count": 28,
      "outputs": []
    },
    {
      "cell_type": "code",
      "source": [
        "df2.head()"
      ],
      "metadata": {
        "colab": {
          "base_uri": "https://localhost:8080/",
          "height": 206
        },
        "id": "WBIk_Coo2hnf",
        "outputId": "249fb95f-6592-4db7-febe-ab62ef083efa"
      },
      "execution_count": 29,
      "outputs": [
        {
          "output_type": "execute_result",
          "data": {
            "text/plain": [
              "  OCCUR_DATE  MONTH  YEAR OCCUR_TIME      BORO LOCATION_DESC  Survived  \\\n",
              "0 2021-11-11     11  2021   15:04:00  BROOKLYN           NaN         1   \n",
              "1 2021-07-16      7  2021   22:05:00  BROOKLYN           NaN         1   \n",
              "2 2021-07-11      7  2021   01:09:00  BROOKLYN           NaN         1   \n",
              "3 2021-12-11     12  2021   13:42:00  BROOKLYN           NaN         1   \n",
              "4 2021-02-16      2  2021   20:00:00    QUEENS           NaN         1   \n",
              "\n",
              "  PERP_AGE_GROUP PERP_SEX                 PERP_RACE VIC_AGE_GROUP VIC_SEX  \\\n",
              "0            NaN      NaN                       NaN         18-24       M   \n",
              "1          45-64        M  ASIAN / PACIFIC ISLANDER         25-44       M   \n",
              "2            <18        M                     BLACK         25-44       M   \n",
              "3            NaN      NaN                       NaN         25-44       M   \n",
              "4            NaN      NaN                       NaN         25-44       M   \n",
              "\n",
              "                   VIC_RACE  JURISDICTION_CODE  \n",
              "0                     BLACK                0.0  \n",
              "1  ASIAN / PACIFIC ISLANDER                0.0  \n",
              "2                     BLACK                0.0  \n",
              "3                     BLACK                0.0  \n",
              "4                     BLACK                0.0  "
            ],
            "text/html": [
              "\n",
              "  <div id=\"df-501b71ce-4e7e-45e5-a150-2c59b41f1224\">\n",
              "    <div class=\"colab-df-container\">\n",
              "      <div>\n",
              "<style scoped>\n",
              "    .dataframe tbody tr th:only-of-type {\n",
              "        vertical-align: middle;\n",
              "    }\n",
              "\n",
              "    .dataframe tbody tr th {\n",
              "        vertical-align: top;\n",
              "    }\n",
              "\n",
              "    .dataframe thead th {\n",
              "        text-align: right;\n",
              "    }\n",
              "</style>\n",
              "<table border=\"1\" class=\"dataframe\">\n",
              "  <thead>\n",
              "    <tr style=\"text-align: right;\">\n",
              "      <th></th>\n",
              "      <th>OCCUR_DATE</th>\n",
              "      <th>MONTH</th>\n",
              "      <th>YEAR</th>\n",
              "      <th>OCCUR_TIME</th>\n",
              "      <th>BORO</th>\n",
              "      <th>LOCATION_DESC</th>\n",
              "      <th>Survived</th>\n",
              "      <th>PERP_AGE_GROUP</th>\n",
              "      <th>PERP_SEX</th>\n",
              "      <th>PERP_RACE</th>\n",
              "      <th>VIC_AGE_GROUP</th>\n",
              "      <th>VIC_SEX</th>\n",
              "      <th>VIC_RACE</th>\n",
              "      <th>JURISDICTION_CODE</th>\n",
              "    </tr>\n",
              "  </thead>\n",
              "  <tbody>\n",
              "    <tr>\n",
              "      <th>0</th>\n",
              "      <td>2021-11-11</td>\n",
              "      <td>11</td>\n",
              "      <td>2021</td>\n",
              "      <td>15:04:00</td>\n",
              "      <td>BROOKLYN</td>\n",
              "      <td>NaN</td>\n",
              "      <td>1</td>\n",
              "      <td>NaN</td>\n",
              "      <td>NaN</td>\n",
              "      <td>NaN</td>\n",
              "      <td>18-24</td>\n",
              "      <td>M</td>\n",
              "      <td>BLACK</td>\n",
              "      <td>0.0</td>\n",
              "    </tr>\n",
              "    <tr>\n",
              "      <th>1</th>\n",
              "      <td>2021-07-16</td>\n",
              "      <td>7</td>\n",
              "      <td>2021</td>\n",
              "      <td>22:05:00</td>\n",
              "      <td>BROOKLYN</td>\n",
              "      <td>NaN</td>\n",
              "      <td>1</td>\n",
              "      <td>45-64</td>\n",
              "      <td>M</td>\n",
              "      <td>ASIAN / PACIFIC ISLANDER</td>\n",
              "      <td>25-44</td>\n",
              "      <td>M</td>\n",
              "      <td>ASIAN / PACIFIC ISLANDER</td>\n",
              "      <td>0.0</td>\n",
              "    </tr>\n",
              "    <tr>\n",
              "      <th>2</th>\n",
              "      <td>2021-07-11</td>\n",
              "      <td>7</td>\n",
              "      <td>2021</td>\n",
              "      <td>01:09:00</td>\n",
              "      <td>BROOKLYN</td>\n",
              "      <td>NaN</td>\n",
              "      <td>1</td>\n",
              "      <td>&lt;18</td>\n",
              "      <td>M</td>\n",
              "      <td>BLACK</td>\n",
              "      <td>25-44</td>\n",
              "      <td>M</td>\n",
              "      <td>BLACK</td>\n",
              "      <td>0.0</td>\n",
              "    </tr>\n",
              "    <tr>\n",
              "      <th>3</th>\n",
              "      <td>2021-12-11</td>\n",
              "      <td>12</td>\n",
              "      <td>2021</td>\n",
              "      <td>13:42:00</td>\n",
              "      <td>BROOKLYN</td>\n",
              "      <td>NaN</td>\n",
              "      <td>1</td>\n",
              "      <td>NaN</td>\n",
              "      <td>NaN</td>\n",
              "      <td>NaN</td>\n",
              "      <td>25-44</td>\n",
              "      <td>M</td>\n",
              "      <td>BLACK</td>\n",
              "      <td>0.0</td>\n",
              "    </tr>\n",
              "    <tr>\n",
              "      <th>4</th>\n",
              "      <td>2021-02-16</td>\n",
              "      <td>2</td>\n",
              "      <td>2021</td>\n",
              "      <td>20:00:00</td>\n",
              "      <td>QUEENS</td>\n",
              "      <td>NaN</td>\n",
              "      <td>1</td>\n",
              "      <td>NaN</td>\n",
              "      <td>NaN</td>\n",
              "      <td>NaN</td>\n",
              "      <td>25-44</td>\n",
              "      <td>M</td>\n",
              "      <td>BLACK</td>\n",
              "      <td>0.0</td>\n",
              "    </tr>\n",
              "  </tbody>\n",
              "</table>\n",
              "</div>\n",
              "      <button class=\"colab-df-convert\" onclick=\"convertToInteractive('df-501b71ce-4e7e-45e5-a150-2c59b41f1224')\"\n",
              "              title=\"Convert this dataframe to an interactive table.\"\n",
              "              style=\"display:none;\">\n",
              "        \n",
              "  <svg xmlns=\"http://www.w3.org/2000/svg\" height=\"24px\"viewBox=\"0 0 24 24\"\n",
              "       width=\"24px\">\n",
              "    <path d=\"M0 0h24v24H0V0z\" fill=\"none\"/>\n",
              "    <path d=\"M18.56 5.44l.94 2.06.94-2.06 2.06-.94-2.06-.94-.94-2.06-.94 2.06-2.06.94zm-11 1L8.5 8.5l.94-2.06 2.06-.94-2.06-.94L8.5 2.5l-.94 2.06-2.06.94zm10 10l.94 2.06.94-2.06 2.06-.94-2.06-.94-.94-2.06-.94 2.06-2.06.94z\"/><path d=\"M17.41 7.96l-1.37-1.37c-.4-.4-.92-.59-1.43-.59-.52 0-1.04.2-1.43.59L10.3 9.45l-7.72 7.72c-.78.78-.78 2.05 0 2.83L4 21.41c.39.39.9.59 1.41.59.51 0 1.02-.2 1.41-.59l7.78-7.78 2.81-2.81c.8-.78.8-2.07 0-2.86zM5.41 20L4 18.59l7.72-7.72 1.47 1.35L5.41 20z\"/>\n",
              "  </svg>\n",
              "      </button>\n",
              "      \n",
              "  <style>\n",
              "    .colab-df-container {\n",
              "      display:flex;\n",
              "      flex-wrap:wrap;\n",
              "      gap: 12px;\n",
              "    }\n",
              "\n",
              "    .colab-df-convert {\n",
              "      background-color: #E8F0FE;\n",
              "      border: none;\n",
              "      border-radius: 50%;\n",
              "      cursor: pointer;\n",
              "      display: none;\n",
              "      fill: #1967D2;\n",
              "      height: 32px;\n",
              "      padding: 0 0 0 0;\n",
              "      width: 32px;\n",
              "    }\n",
              "\n",
              "    .colab-df-convert:hover {\n",
              "      background-color: #E2EBFA;\n",
              "      box-shadow: 0px 1px 2px rgba(60, 64, 67, 0.3), 0px 1px 3px 1px rgba(60, 64, 67, 0.15);\n",
              "      fill: #174EA6;\n",
              "    }\n",
              "\n",
              "    [theme=dark] .colab-df-convert {\n",
              "      background-color: #3B4455;\n",
              "      fill: #D2E3FC;\n",
              "    }\n",
              "\n",
              "    [theme=dark] .colab-df-convert:hover {\n",
              "      background-color: #434B5C;\n",
              "      box-shadow: 0px 1px 3px 1px rgba(0, 0, 0, 0.15);\n",
              "      filter: drop-shadow(0px 1px 2px rgba(0, 0, 0, 0.3));\n",
              "      fill: #FFFFFF;\n",
              "    }\n",
              "  </style>\n",
              "\n",
              "      <script>\n",
              "        const buttonEl =\n",
              "          document.querySelector('#df-501b71ce-4e7e-45e5-a150-2c59b41f1224 button.colab-df-convert');\n",
              "        buttonEl.style.display =\n",
              "          google.colab.kernel.accessAllowed ? 'block' : 'none';\n",
              "\n",
              "        async function convertToInteractive(key) {\n",
              "          const element = document.querySelector('#df-501b71ce-4e7e-45e5-a150-2c59b41f1224');\n",
              "          const dataTable =\n",
              "            await google.colab.kernel.invokeFunction('convertToInteractive',\n",
              "                                                     [key], {});\n",
              "          if (!dataTable) return;\n",
              "\n",
              "          const docLinkHtml = 'Like what you see? Visit the ' +\n",
              "            '<a target=\"_blank\" href=https://colab.research.google.com/notebooks/data_table.ipynb>data table notebook</a>'\n",
              "            + ' to learn more about interactive tables.';\n",
              "          element.innerHTML = '';\n",
              "          dataTable['output_type'] = 'display_data';\n",
              "          await google.colab.output.renderOutput(dataTable, element);\n",
              "          const docLink = document.createElement('div');\n",
              "          docLink.innerHTML = docLinkHtml;\n",
              "          element.appendChild(docLink);\n",
              "        }\n",
              "      </script>\n",
              "    </div>\n",
              "  </div>\n",
              "  "
            ]
          },
          "metadata": {},
          "execution_count": 29
        }
      ]
    },
    {
      "cell_type": "markdown",
      "source": [
        "\"\"\"In this section i did quite a number of things in order to clean and manipulate the data. First i checked for missing data, i quickly realized that i won't be removing those since i may want to use it in my analysis. \n",
        "I ended up not really using it but i'm still okay with keeping it. Then i checked to see if the arrest_key column were all unique values, i saw it wasn't. I didn't understand why that was like that so i went back to the data \n",
        "source and found out that if there were multiple victims the duplicate incident keys were produced. Now i wanted to see how many incidents were duplicate or how many incidents had multiple victims and found so i used a \n",
        "for loop and found that 5470 of the incidents had multiple victims. Once that was done i decided to drop the columns i don't plan on using (df.drop). Then i imported to datetime module so i can convert the date column\n",
        "and then i can pull out the year and month into two separate columns, which i would then be able to use in my analysis. the next thing i did was use the get_dummies function to convert a the column STATISTICAL_MURDER_FLAG\n",
        "to binary. This makes it easier for me to use it in my analysis. I renamed that column 'Survived'. Lastly in my data cleaning process i reordered my column to the way i would like to see it.\n",
        "  \"\"\""
      ],
      "metadata": {
        "id": "dAEc2QyBXj_w"
      }
    },
    {
      "cell_type": "markdown",
      "source": [
        "#Visualization"
      ],
      "metadata": {
        "id": "lGOpO8J0aFtW"
      }
    },
    {
      "cell_type": "markdown",
      "source": [
        "##Time, Month & Year of shooting incidents"
      ],
      "metadata": {
        "id": "AMzpzaTcbEAH"
      }
    },
    {
      "cell_type": "code",
      "source": [
        "df2.OCCUR_TIME.value_counts().iloc[:20] #time of day most shooting incident occured"
      ],
      "metadata": {
        "colab": {
          "base_uri": "https://localhost:8080/"
        },
        "id": "MTTx7Oui_XSI",
        "outputId": "abcf65b4-85f1-4464-add0-ab869c66c0c9"
      },
      "execution_count": 31,
      "outputs": [
        {
          "output_type": "execute_result",
          "data": {
            "text/plain": [
              "23:30:00    171\n",
              "00:30:00    151\n",
              "01:30:00    147\n",
              "02:00:00    142\n",
              "21:00:00    138\n",
              "22:30:00    132\n",
              "01:00:00    129\n",
              "04:00:00    128\n",
              "23:00:00    126\n",
              "21:30:00    124\n",
              "22:00:00    113\n",
              "02:30:00    105\n",
              "00:50:00    104\n",
              "03:30:00     98\n",
              "03:00:00     97\n",
              "04:30:00     96\n",
              "01:15:00     96\n",
              "23:50:00     93\n",
              "20:00:00     93\n",
              "23:15:00     90\n",
              "Name: OCCUR_TIME, dtype: int64"
            ]
          },
          "metadata": {},
          "execution_count": 31
        }
      ]
    },
    {
      "cell_type": "code",
      "source": [
        "df2.OCCUR_TIME.value_counts().iloc[:15].plot(kind='barh', title = 'Shooting Incidents Occur time')"
      ],
      "metadata": {
        "colab": {
          "base_uri": "https://localhost:8080/",
          "height": 298
        },
        "id": "OK_Gk92jCap-",
        "outputId": "ddb29314-668c-4549-b3fd-7c44bc08f16d"
      },
      "execution_count": 32,
      "outputs": [
        {
          "output_type": "execute_result",
          "data": {
            "text/plain": [
              "<matplotlib.axes._subplots.AxesSubplot at 0x7f39f72afa00>"
            ]
          },
          "metadata": {},
          "execution_count": 32
        },
        {
          "output_type": "display_data",
          "data": {
            "text/plain": [
              "<Figure size 432x288 with 1 Axes>"
            ],
            "image/png": "[encoded data removed]"
          },
          "metadata": {
            "needs_background": "light"
          }
        }
      ]
    },
    {
      "cell_type": "code",
      "source": [
        "sns.set_style('whitegrid')\n",
        "sns.countplot(x='MONTH', data=df2)"
      ],
      "metadata": {
        "colab": {
          "base_uri": "https://localhost:8080/",
          "height": 296
        },
        "id": "o10155jAa4SU",
        "outputId": "fa30046a-462a-448f-c2bb-603641c9b1d0"
      },
      "execution_count": 33,
      "outputs": [
        {
          "output_type": "execute_result",
          "data": {
            "text/plain": [
              "<matplotlib.axes._subplots.AxesSubplot at 0x7f39f71c6d30>"
            ]
          },
          "metadata": {},
          "execution_count": 33
        },
        {
          "output_type": "display_data",
          "data": {
            "text/plain": [
              "<Figure size 432x288 with 1 Axes>"
            ],
            "image/png": "[encoded data removed]"
          },
          "metadata": {}
        }
      ]
    },
    {
      "cell_type": "code",
      "source": [
        "sns.set_style('whitegrid')\n",
        "df2.YEAR.value_counts().sort_values().plot(kind='barh', title = 'Shooting Incidents by Year')"
      ],
      "metadata": {
        "colab": {
          "base_uri": "https://localhost:8080/",
          "height": 298
        },
        "id": "WGzStg2j7Pni",
        "outputId": "3a655471-8a80-46fb-d954-6945139d6fc4"
      },
      "execution_count": 34,
      "outputs": [
        {
          "output_type": "execute_result",
          "data": {
            "text/plain": [
              "<matplotlib.axes._subplots.AxesSubplot at 0x7f39f6c7eb50>"
            ]
          },
          "metadata": {},
          "execution_count": 34
        },
        {
          "output_type": "display_data",
          "data": {
            "text/plain": [
              "<Figure size 432x288 with 1 Axes>"
            ],
            "image/png": "[encoded data removed]"
          },
          "metadata": {}
        }
      ]
    },
    {
      "cell_type": "code",
      "source": [
        "sns.set_style('whitegrid')\n",
        "sns.countplot(x='YEAR', data=df2)"
      ],
      "metadata": {
        "colab": {
          "base_uri": "https://localhost:8080/",
          "height": 296
        },
        "id": "sGNz61OrFjVP",
        "outputId": "1545667f-a5dd-44c1-bab7-506d2ddb1564"
      },
      "execution_count": 35,
      "outputs": [
        {
          "output_type": "execute_result",
          "data": {
            "text/plain": [
              "<matplotlib.axes._subplots.AxesSubplot at 0x7f39f6c231f0>"
            ]
          },
          "metadata": {},
          "execution_count": 35
        },
        {
          "output_type": "display_data",
          "data": {
            "text/plain": [
              "<Figure size 432x288 with 1 Axes>"
            ],
            "image/png": "[encoded data removed]"
          },
          "metadata": {}
        }
      ]
    },
    {
      "cell_type": "code",
      "source": [
        "sns.distplot(df2['YEAR'])"
      ],
      "metadata": {
        "colab": {
          "base_uri": "https://localhost:8080/",
          "height": 351
        },
        "id": "nZK5JMxgpVsD",
        "outputId": "49dbaeef-f8a1-4807-da5f-adba11ccb6cc"
      },
      "execution_count": 36,
      "outputs": [
        {
          "output_type": "stream",
          "name": "stderr",
          "text": [
            "/usr/local/lib/python3.8/dist-packages/seaborn/distributions.py:2619: FutureWarning: `distplot` is a deprecated function and will be removed in a future version. Please adapt your code to use either `displot` (a figure-level function with similar flexibility) or `histplot` (an axes-level function for histograms).\n",
            "  warnings.warn(msg, FutureWarning)\n"
          ]
        },
        {
          "output_type": "execute_result",
          "data": {
            "text/plain": [
              "<matplotlib.axes._subplots.AxesSubplot at 0x7f39f6c13d30>"
            ]
          },
          "metadata": {},
          "execution_count": 36
        },
        {
          "output_type": "display_data",
          "data": {
            "text/plain": [
              "<Figure size 432x288 with 1 Axes>"
            ],
            "image/png": "[encoded data removed]"
          },
          "metadata": {}
        }
      ]
    },
    {
      "cell_type": "markdown",
      "source": [
        "##Graph - victims who survived vs who didn't"
      ],
      "metadata": {
        "id": "GEYVwfqlb2KF"
      }
    },
    {
      "cell_type": "code",
      "source": [
        "sns.set_style('whitegrid')\n",
        "sns.countplot(x='Survived', data=df2)"
      ],
      "metadata": {
        "colab": {
          "base_uri": "https://localhost:8080/",
          "height": 296
        },
        "id": "S9CEo1yO234i",
        "outputId": "e218bf11-b194-4dd3-d5a4-981064712d3d"
      },
      "execution_count": 37,
      "outputs": [
        {
          "output_type": "execute_result",
          "data": {
            "text/plain": [
              "<matplotlib.axes._subplots.AxesSubplot at 0x7f39f22a9430>"
            ]
          },
          "metadata": {},
          "execution_count": 37
        },
        {
          "output_type": "display_data",
          "data": {
            "text/plain": [
              "<Figure size 432x288 with 1 Axes>"
            ],
            "image/png": "[encoded data removed]"
          },
          "metadata": {}
        }
      ]
    },
    {
      "cell_type": "code",
      "source": [
        "df2.Survived.value_counts().plot(kind='pie', title = 'Survived', autopct='%1.1f%%', figsize=(7,7))"
      ],
      "metadata": {
        "colab": {
          "base_uri": "https://localhost:8080/",
          "height": 444
        },
        "id": "Dah0r1eE_daq",
        "outputId": "2cb23de8-87b8-4059-86c2-b44c345ef8b7"
      },
      "execution_count": 38,
      "outputs": [
        {
          "output_type": "execute_result",
          "data": {
            "text/plain": [
              "<matplotlib.axes._subplots.AxesSubplot at 0x7f39f226fee0>"
            ]
          },
          "metadata": {},
          "execution_count": 38
        },
        {
          "output_type": "display_data",
          "data": {
            "text/plain": [
              "<Figure size 504x504 with 1 Axes>"
            ],
            "image/png": "[encoded data removed]"
          },
          "metadata": {}
        }
      ]
    },
    {
      "cell_type": "code",
      "source": [
        "df2.Survived.value_counts()"
      ],
      "metadata": {
        "colab": {
          "base_uri": "https://localhost:8080/"
        },
        "id": "WHE300t7xVQn",
        "outputId": "3ca46286-5c5d-4b32-a0e7-04f197e88c08"
      },
      "execution_count": 39,
      "outputs": [
        {
          "output_type": "execute_result",
          "data": {
            "text/plain": [
              "1    20668\n",
              "0     4928\n",
              "Name: Survived, dtype: int64"
            ]
          },
          "metadata": {},
          "execution_count": 39
        }
      ]
    },
    {
      "cell_type": "code",
      "source": [
        "sns.set_style('whitegrid')\n",
        "sns.countplot(x='Survived', hue='VIC_SEX', data=df2)"
      ],
      "metadata": {
        "colab": {
          "base_uri": "https://localhost:8080/",
          "height": 296
        },
        "id": "YRhuJxsKjChA",
        "outputId": "f56f2e32-4e2d-4b3c-eaa3-32ae2733dd21"
      },
      "execution_count": 40,
      "outputs": [
        {
          "output_type": "execute_result",
          "data": {
            "text/plain": [
              "<matplotlib.axes._subplots.AxesSubplot at 0x7f39f22331c0>"
            ]
          },
          "metadata": {},
          "execution_count": 40
        },
        {
          "output_type": "display_data",
          "data": {
            "text/plain": [
              "<Figure size 432x288 with 1 Axes>"
            ],
            "image/png": "[encoded data removed]"
          },
          "metadata": {}
        }
      ]
    },
    {
      "cell_type": "code",
      "source": [
        "df2.VIC_SEX.value_counts()"
      ],
      "metadata": {
        "colab": {
          "base_uri": "https://localhost:8080/"
        },
        "id": "kRp4JNQJjTvV",
        "outputId": "c221a443-d020-4aa4-d86c-fa199f7af5e7"
      },
      "execution_count": 41,
      "outputs": [
        {
          "output_type": "execute_result",
          "data": {
            "text/plain": [
              "M    23182\n",
              "F     2403\n",
              "U       11\n",
              "Name: VIC_SEX, dtype: int64"
            ]
          },
          "metadata": {},
          "execution_count": 41
        }
      ]
    },
    {
      "cell_type": "markdown",
      "source": [
        "##Number of Victims who survive vs didn't by boro"
      ],
      "metadata": {
        "id": "O48yD30ai6JZ"
      }
    },
    {
      "cell_type": "code",
      "source": [
        "sns.set_style('whitegrid')\n",
        "sns.countplot(x='Survived', hue='BORO', data=df2)"
      ],
      "metadata": {
        "colab": {
          "base_uri": "https://localhost:8080/",
          "height": 296
        },
        "id": "Up7oBDgQiv0z",
        "outputId": "fc55a055-a9cc-406d-cef7-20ca87320719"
      },
      "execution_count": 60,
      "outputs": [
        {
          "output_type": "execute_result",
          "data": {
            "text/plain": [
              "<matplotlib.axes._subplots.AxesSubplot at 0x7f39f73215b0>"
            ]
          },
          "metadata": {},
          "execution_count": 60
        },
        {
          "output_type": "display_data",
          "data": {
            "text/plain": [
              "<Figure size 432x288 with 1 Axes>"
            ],
            "image/png": "[encoded data removed]"
          },
          "metadata": {}
        }
      ]
    },
    {
      "cell_type": "markdown",
      "source": [
        "## Number of Victims by Race"
      ],
      "metadata": {
        "id": "xr6M7rbOcHO7"
      }
    },
    {
      "cell_type": "code",
      "source": [
        "df2.VIC_RACE.value_counts().sort_values().plot(kind='bar', title = 'Shooting Incidents by Victim RACE', color='cyan')"
      ],
      "metadata": {
        "colab": {
          "base_uri": "https://localhost:8080/",
          "height": 468
        },
        "id": "N97k4etDmn7b",
        "outputId": "acc53e01-077f-454c-ac1c-d3bdbadaf8d0"
      },
      "execution_count": 42,
      "outputs": [
        {
          "output_type": "execute_result",
          "data": {
            "text/plain": [
              "<matplotlib.axes._subplots.AxesSubplot at 0x7f39f2191bb0>"
            ]
          },
          "metadata": {},
          "execution_count": 42
        },
        {
          "output_type": "display_data",
          "data": {
            "text/plain": [
              "<Figure size 432x288 with 1 Axes>"
            ],
            "image/png": "[encoded data removed]"
          },
          "metadata": {}
        }
      ]
    },
    {
      "cell_type": "markdown",
      "source": [
        "## Number of Victims by Age Group"
      ],
      "metadata": {
        "id": "OYXCF5O3fW0m"
      }
    },
    {
      "cell_type": "code",
      "source": [
        "df2.VIC_AGE_GROUP.value_counts().sort_values().plot(kind='bar', title = 'Shooting Incidents by Victim Age Group')"
      ],
      "metadata": {
        "colab": {
          "base_uri": "https://localhost:8080/",
          "height": 342
        },
        "id": "a3x65qPYnCah",
        "outputId": "50f049db-cf30-428e-a02b-2b3ba629cf2b"
      },
      "execution_count": 43,
      "outputs": [
        {
          "output_type": "execute_result",
          "data": {
            "text/plain": [
              "<matplotlib.axes._subplots.AxesSubplot at 0x7f39f2189e80>"
            ]
          },
          "metadata": {},
          "execution_count": 43
        },
        {
          "output_type": "display_data",
          "data": {
            "text/plain": [
              "<Figure size 432x288 with 1 Axes>"
            ],
            "image/png": "[encoded data removed]"
          },
          "metadata": {}
        }
      ]
    },
    {
      "cell_type": "markdown",
      "source": [
        "## Victims by Location"
      ],
      "metadata": {
        "id": "QI4aUa6Mf-vf"
      }
    },
    {
      "cell_type": "code",
      "source": [
        "df2.LOCATION_DESC.value_counts().plot(kind='pie', title = 'Location where most shooting incident occur', autopct='%1.1f%%', figsize=(7,7))"
      ],
      "metadata": {
        "colab": {
          "base_uri": "https://localhost:8080/",
          "height": 444
        },
        "id": "okYK_kDTi3rI",
        "outputId": "35a4f319-af67-49cf-9a0a-93122bc28462"
      },
      "execution_count": 44,
      "outputs": [
        {
          "output_type": "execute_result",
          "data": {
            "text/plain": [
              "<matplotlib.axes._subplots.AxesSubplot at 0x7f39f20f4ee0>"
            ]
          },
          "metadata": {},
          "execution_count": 44
        },
        {
          "output_type": "display_data",
          "data": {
            "text/plain": [
              "<Figure size 504x504 with 1 Axes>"
            ],
            "image/png": "[encoded data removed]"
          },
          "metadata": {}
        }
      ]
    },
    {
      "cell_type": "markdown",
      "source": [
        "\"\"\"In the visualization section i was ready to see the data with a better view. I wanted to find out who are most likely to be a victim of a shooting incident. To do that i needed to see victims age, race, location\n",
        "where incidents happen, boro, the time of year incidents happen mostly and even time of day.\n",
        "\n",
        "In conclusion i found that those who are most likely to be involved in a shooting incident are: african america/black, who are between the ages of 18-24 and 25-44, male, lives or spend more time in brooklyn and live or \n",
        "spend more time in a multi dwelling public housing. Someone who is mostly awake in the late nights and early mornings, and someone who most definitely will spend all of july and august in NYC. \n",
        "\n",
        "Most shooting incidents occured in Multi dwelling public housing and apt building and private houses. This tells me that these incidents mostly happen among people who know each other either personally or by some other means. \n",
        "Home is suppose to be a place we go to to feel safe, however this analysis tells me that we need to be more cautious at home. \n",
        "\n",
        "In the year 2017, 2018 & 2019 shooting incident rates were below 1000 incidents, over a decade of shooting incidents decreasing was reversed in 2020 the height of the pandemic when that number\n",
        "increase 100% to a whopping 1948 and in 2021 increased again to 2011 shooting incidents.\n",
        "\n",
        "Most shooting incidents occurs late at night and early morning. Incidents increase during summer months and tends to be lower in the winter and colder months. \n",
        "\n",
        "\n",
        " \"\"\""
      ],
      "metadata": {
        "id": "Jfdo2BN7hKiZ"
      }
    },
    {
      "cell_type": "markdown",
      "source": [
        "#Additional Information"
      ],
      "metadata": {
        "id": "2HSEO8KYgNkF"
      }
    },
    {
      "cell_type": "code",
      "source": [
        "\"\"\"in this section i wanted to see if there is any simialarity or difference in in the location where shooting incidents occur pre-covid and during covid. \"\"\""
      ],
      "metadata": {
        "id": "c3L6INhPgR1v"
      },
      "execution_count": null,
      "outputs": []
    },
    {
      "cell_type": "code",
      "source": [
        "df_2020 = df2.loc[df2['YEAR'] == 2020] #During Covid"
      ],
      "metadata": {
        "id": "ba3zgRhp-SFo"
      },
      "execution_count": 49,
      "outputs": []
    },
    {
      "cell_type": "code",
      "source": [
        "df_2020.LOCATION_DESC.value_counts().plot(kind=\"barh\", color=\"red\")"
      ],
      "metadata": {
        "colab": {
          "base_uri": "https://localhost:8080/",
          "height": 282
        },
        "id": "O8QZnHI_-lva",
        "outputId": "908cf104-c584-4032-da57-ebba70e3815f"
      },
      "execution_count": 50,
      "outputs": [
        {
          "output_type": "execute_result",
          "data": {
            "text/plain": [
              "<matplotlib.axes._subplots.AxesSubplot at 0x7f39f1fb21f0>"
            ]
          },
          "metadata": {},
          "execution_count": 50
        },
        {
          "output_type": "display_data",
          "data": {
            "text/plain": [
              "<Figure size 432x288 with 1 Axes>"
            ],
            "image/png": "[encoded data removed]"
          },
          "metadata": {}
        }
      ]
    },
    {
      "cell_type": "code",
      "source": [
        "df_2007 = df2.loc[df2['YEAR'] == 2007] #Pre-Covid"
      ],
      "metadata": {
        "id": "GG6ZOs_4AE14"
      },
      "execution_count": 51,
      "outputs": []
    },
    {
      "cell_type": "code",
      "source": [
        "df_2007.LOCATION_DESC.value_counts().plot(kind=\"barh\", color=\"red\")"
      ],
      "metadata": {
        "colab": {
          "base_uri": "https://localhost:8080/",
          "height": 282
        },
        "id": "1DtcEf9eAR2c",
        "outputId": "b03c93d3-33f9-466f-904a-8acdf2c1aa00"
      },
      "execution_count": 52,
      "outputs": [
        {
          "output_type": "execute_result",
          "data": {
            "text/plain": [
              "<matplotlib.axes._subplots.AxesSubplot at 0x7f39f1f81e80>"
            ]
          },
          "metadata": {},
          "execution_count": 52
        },
        {
          "output_type": "display_data",
          "data": {
            "text/plain": [
              "<Figure size 432x288 with 1 Axes>"
            ],
            "image/png": "[encoded data removed]"
          },
          "metadata": {}
        }
      ]
    },
    {
      "cell_type": "markdown",
      "source": [
        "#More Additional Info"
      ],
      "metadata": {
        "id": "1j1QuIbyjKlY"
      }
    },
    {
      "cell_type": "code",
      "source": [
        "df2.BORO.value_counts() # population of each boro BRONX = 1,424,948, BROOKLYN = 2,641,052 MANHATTAN = 1,576,875 QUEENS = 2,331,143 STATEN ISLAND = 493,494"
      ],
      "metadata": {
        "colab": {
          "base_uri": "https://localhost:8080/"
        },
        "id": "ncQntMldAtzk",
        "outputId": "247c4a60-d73d-4e9c-9f42-be6fd9d59e78"
      },
      "execution_count": 53,
      "outputs": [
        {
          "output_type": "execute_result",
          "data": {
            "text/plain": [
              "BROOKLYN         10365\n",
              "BRONX             7402\n",
              "QUEENS            3828\n",
              "MANHATTAN         3265\n",
              "STATEN ISLAND      736\n",
              "Name: BORO, dtype: int64"
            ]
          },
          "metadata": {},
          "execution_count": 53
        }
      ]
    },
    {
      "cell_type": "code",
      "source": [
        "#i wanted to see what was the % of the population of each boro involved in a shooting incident. "
      ],
      "metadata": {
        "id": "61GQ1X9xmxFJ"
      },
      "execution_count": null,
      "outputs": []
    },
    {
      "cell_type": "code",
      "source": [
        "perBxSh = (7402/1424948)*100\n",
        "perBklnSh = (10365/2641052)*100\n",
        "perQnsSh = (3828/2331143)*100\n",
        "perMnhSh = (3265/1576875)*100\n",
        "perSISh = (736/493494)*100"
      ],
      "metadata": {
        "id": "VEJXMyGkKP8Z"
      },
      "execution_count": 54,
      "outputs": []
    },
    {
      "cell_type": "code",
      "source": [
        "perBxSh #.52%"
      ],
      "metadata": {
        "colab": {
          "base_uri": "https://localhost:8080/"
        },
        "id": "VDkDNnhQKjBD",
        "outputId": "adc0d954-c428-4071-ba70-bff090fe54e2"
      },
      "execution_count": 55,
      "outputs": [
        {
          "output_type": "execute_result",
          "data": {
            "text/plain": [
              "0.5194575521352358"
            ]
          },
          "metadata": {},
          "execution_count": 55
        }
      ]
    },
    {
      "cell_type": "code",
      "source": [
        "perBklnSh #.39%"
      ],
      "metadata": {
        "colab": {
          "base_uri": "https://localhost:8080/"
        },
        "id": "mwEWB8KvLryT",
        "outputId": "fe0a1177-cc12-40a3-d5e8-7fd145c373bb"
      },
      "execution_count": 56,
      "outputs": [
        {
          "output_type": "execute_result",
          "data": {
            "text/plain": [
              "0.3924572480965918"
            ]
          },
          "metadata": {},
          "execution_count": 56
        }
      ]
    },
    {
      "cell_type": "code",
      "source": [
        "perMnhSh #.21%"
      ],
      "metadata": {
        "colab": {
          "base_uri": "https://localhost:8080/"
        },
        "id": "-quQqV54LtNK",
        "outputId": "8c181230-8f2e-464c-8456-f6cef51daa39"
      },
      "execution_count": 57,
      "outputs": [
        {
          "output_type": "execute_result",
          "data": {
            "text/plain": [
              "0.20705509314308362"
            ]
          },
          "metadata": {},
          "execution_count": 57
        }
      ]
    },
    {
      "cell_type": "code",
      "source": [
        "perQnsSh #.16%"
      ],
      "metadata": {
        "colab": {
          "base_uri": "https://localhost:8080/"
        },
        "id": "rXcTkfGfLvki",
        "outputId": "e77b622b-db98-4115-ace5-9fa232e160e3"
      },
      "execution_count": 58,
      "outputs": [
        {
          "output_type": "execute_result",
          "data": {
            "text/plain": [
              "0.16421129034126178"
            ]
          },
          "metadata": {},
          "execution_count": 58
        }
      ]
    },
    {
      "cell_type": "code",
      "source": [
        "perSISh #.15%"
      ],
      "metadata": {
        "colab": {
          "base_uri": "https://localhost:8080/"
        },
        "id": "wKWyk5LkLxAW",
        "outputId": "073b71e4-d6dd-49be-e581-aee708f4d791"
      },
      "execution_count": 59,
      "outputs": [
        {
          "output_type": "execute_result",
          "data": {
            "text/plain": [
              "0.14914061771774326"
            ]
          },
          "metadata": {},
          "execution_count": 59
        }
      ]
    },
    {
      "cell_type": "markdown",
      "source": [
        "#References"
      ],
      "metadata": {
        "id": "S5w_FDiJmjBA"
      }
    },
    {
      "cell_type": "markdown",
      "source": [
        "##https://data.cityofnewyork.us/Public-Safety/NYPD-Shooting-Incident-Data-Historic-/833y-fsy8 - data source\n",
        "##http://www.citypopulation.de/en/usa/newyorkcity/ - use to find out the population for each boro"
      ],
      "metadata": {
        "id": "ru0_-gxMmon8"
      }
    }
  ]
}